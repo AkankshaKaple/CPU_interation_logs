{
 "cells": [
  {
   "cell_type": "code",
   "execution_count": 1,
   "metadata": {},
   "outputs": [],
   "source": [
    "import pandas as pd\n",
    "import numpy as np\n",
    "import seaborn as sb\n",
    "import matplotlib.pyplot as plt\n",
    "from sklearn.preprocessing import StandardScaler\n",
    "from sklearn.model_selection import train_test_split\n",
    "from sklearn.cluster import KMeans\n",
    "import seaborn as sns; sns.set(style='white')\n",
    "%matplotlib inline\n",
    "%config InlineBackend.figure_format = 'retina'\n",
    "from sklearn import decomposition\n",
    "from sklearn import datasets\n",
    "from mpl_toolkits.mplot3d import Axes3D\n",
    "from sklearn.utils import shuffle\n",
    "import warnings\n",
    "warnings.filterwarnings('ignore')"
   ]
  },
  {
   "cell_type": "code",
   "execution_count": 2,
   "metadata": {},
   "outputs": [
    {
     "data": {
      "text/html": [
       "<div>\n",
       "<style scoped>\n",
       "    .dataframe tbody tr th:only-of-type {\n",
       "        vertical-align: middle;\n",
       "    }\n",
       "\n",
       "    .dataframe tbody tr th {\n",
       "        vertical-align: top;\n",
       "    }\n",
       "\n",
       "    .dataframe thead th {\n",
       "        text-align: right;\n",
       "    }\n",
       "</style>\n",
       "<table border=\"1\" class=\"dataframe\">\n",
       "  <thead>\n",
       "    <tr style=\"text-align: right;\">\n",
       "      <th></th>\n",
       "      <th>Unnamed: 0</th>\n",
       "      <th>Cpu Count</th>\n",
       "      <th>Cpu Working Time</th>\n",
       "      <th>Cpu idle Time</th>\n",
       "      <th>cpu_percent</th>\n",
       "      <th>Usage Cpu Count</th>\n",
       "      <th>number of software interrupts since boot</th>\n",
       "      <th>number of system calls since boot</th>\n",
       "      <th>number of interrupts since boot</th>\n",
       "      <th>cpu avg load over 1 min</th>\n",
       "      <th>...</th>\n",
       "      <th>number of bytes received</th>\n",
       "      <th>number of packets sent</th>\n",
       "      <th>number of packets recived</th>\n",
       "      <th>total number of errors while receiving</th>\n",
       "      <th>total number of errors while sending</th>\n",
       "      <th>total number of incoming packets which were dropped</th>\n",
       "      <th>total number of outgoing packets which were dropped</th>\n",
       "      <th>Dates</th>\n",
       "      <th>Time</th>\n",
       "      <th>Boot_Time</th>\n",
       "    </tr>\n",
       "  </thead>\n",
       "  <tbody>\n",
       "    <tr>\n",
       "      <th>4221</th>\n",
       "      <td>4221</td>\n",
       "      <td>4</td>\n",
       "      <td>271.31</td>\n",
       "      <td>121769.55</td>\n",
       "      <td>29.0</td>\n",
       "      <td>4</td>\n",
       "      <td>3502143</td>\n",
       "      <td>0</td>\n",
       "      <td>28397577</td>\n",
       "      <td>0.00</td>\n",
       "      <td>...</td>\n",
       "      <td>65859929</td>\n",
       "      <td>41172</td>\n",
       "      <td>386740</td>\n",
       "      <td>0</td>\n",
       "      <td>0</td>\n",
       "      <td>2</td>\n",
       "      <td>0</td>\n",
       "      <td>2019-07-16</td>\n",
       "      <td>19:12:01</td>\n",
       "      <td>8.31</td>\n",
       "    </tr>\n",
       "    <tr>\n",
       "      <th>4222</th>\n",
       "      <td>4222</td>\n",
       "      <td>4</td>\n",
       "      <td>271.80</td>\n",
       "      <td>122008.94</td>\n",
       "      <td>23.3</td>\n",
       "      <td>4</td>\n",
       "      <td>3513859</td>\n",
       "      <td>0</td>\n",
       "      <td>28406052</td>\n",
       "      <td>0.00</td>\n",
       "      <td>...</td>\n",
       "      <td>65965912</td>\n",
       "      <td>41271</td>\n",
       "      <td>387453</td>\n",
       "      <td>0</td>\n",
       "      <td>0</td>\n",
       "      <td>2</td>\n",
       "      <td>0</td>\n",
       "      <td>2019-07-16</td>\n",
       "      <td>19:13:02</td>\n",
       "      <td>8.32</td>\n",
       "    </tr>\n",
       "    <tr>\n",
       "      <th>4223</th>\n",
       "      <td>4223</td>\n",
       "      <td>4</td>\n",
       "      <td>272.11</td>\n",
       "      <td>122244.62</td>\n",
       "      <td>25.8</td>\n",
       "      <td>4</td>\n",
       "      <td>3521274</td>\n",
       "      <td>0</td>\n",
       "      <td>28412149</td>\n",
       "      <td>0.00</td>\n",
       "      <td>...</td>\n",
       "      <td>66028574</td>\n",
       "      <td>41313</td>\n",
       "      <td>387914</td>\n",
       "      <td>0</td>\n",
       "      <td>0</td>\n",
       "      <td>2</td>\n",
       "      <td>0</td>\n",
       "      <td>2019-07-16</td>\n",
       "      <td>19:14:01</td>\n",
       "      <td>8.33</td>\n",
       "    </tr>\n",
       "    <tr>\n",
       "      <th>4224</th>\n",
       "      <td>4224</td>\n",
       "      <td>4</td>\n",
       "      <td>279.90</td>\n",
       "      <td>122468.27</td>\n",
       "      <td>28.1</td>\n",
       "      <td>4</td>\n",
       "      <td>3559645</td>\n",
       "      <td>0</td>\n",
       "      <td>29596034</td>\n",
       "      <td>0.13</td>\n",
       "      <td>...</td>\n",
       "      <td>66086888</td>\n",
       "      <td>41510</td>\n",
       "      <td>388364</td>\n",
       "      <td>0</td>\n",
       "      <td>0</td>\n",
       "      <td>2</td>\n",
       "      <td>0</td>\n",
       "      <td>2019-07-16</td>\n",
       "      <td>19:15:01</td>\n",
       "      <td>8.34</td>\n",
       "    </tr>\n",
       "  </tbody>\n",
       "</table>\n",
       "<p>4 rows × 42 columns</p>\n",
       "</div>"
      ],
      "text/plain": [
       "      Unnamed: 0  Cpu Count  Cpu Working Time  Cpu idle Time  cpu_percent  \\\n",
       "4221        4221          4            271.31      121769.55         29.0   \n",
       "4222        4222          4            271.80      122008.94         23.3   \n",
       "4223        4223          4            272.11      122244.62         25.8   \n",
       "4224        4224          4            279.90      122468.27         28.1   \n",
       "\n",
       "      Usage Cpu Count   number of software interrupts since boot  \\\n",
       "4221                 4                                   3502143   \n",
       "4222                 4                                   3513859   \n",
       "4223                 4                                   3521274   \n",
       "4224                 4                                   3559645   \n",
       "\n",
       "      number of system calls since boot  number of interrupts since boot  \\\n",
       "4221                                  0                         28397577   \n",
       "4222                                  0                         28406052   \n",
       "4223                                  0                         28412149   \n",
       "4224                                  0                         29596034   \n",
       "\n",
       "      cpu avg load over 1 min  ...  number of bytes received  \\\n",
       "4221                     0.00  ...                  65859929   \n",
       "4222                     0.00  ...                  65965912   \n",
       "4223                     0.00  ...                  66028574   \n",
       "4224                     0.13  ...                  66086888   \n",
       "\n",
       "      number of packets sent  number of packets recived  \\\n",
       "4221                   41172                     386740   \n",
       "4222                   41271                     387453   \n",
       "4223                   41313                     387914   \n",
       "4224                   41510                     388364   \n",
       "\n",
       "      total number of errors while receiving  \\\n",
       "4221                                       0   \n",
       "4222                                       0   \n",
       "4223                                       0   \n",
       "4224                                       0   \n",
       "\n",
       "      total number of errors while sending  \\\n",
       "4221                                     0   \n",
       "4222                                     0   \n",
       "4223                                     0   \n",
       "4224                                     0   \n",
       "\n",
       "      total number of incoming packets which were dropped  \\\n",
       "4221                                                  2     \n",
       "4222                                                  2     \n",
       "4223                                                  2     \n",
       "4224                                                  2     \n",
       "\n",
       "      total number of outgoing packets which were dropped       Dates  \\\n",
       "4221                                                  0    2019-07-16   \n",
       "4222                                                  0    2019-07-16   \n",
       "4223                                                  0    2019-07-16   \n",
       "4224                                                  0    2019-07-16   \n",
       "\n",
       "          Time  Boot_Time  \n",
       "4221  19:12:01       8.31  \n",
       "4222  19:13:02       8.32  \n",
       "4223  19:14:01       8.33  \n",
       "4224  19:15:01       8.34  \n",
       "\n",
       "[4 rows x 42 columns]"
      ]
     },
     "execution_count": 2,
     "metadata": {},
     "output_type": "execute_result"
    }
   ],
   "source": [
    "data = pd.read_csv('Pre_processed_data.csv')\n",
    "data.tail(4)"
   ]
  },
  {
   "cell_type": "code",
   "execution_count": 3,
   "metadata": {},
   "outputs": [],
   "source": [
    "data.drop(columns=['Unnamed: 0', 'Time', 'Dates'], inplace=True)"
   ]
  },
  {
   "cell_type": "code",
   "execution_count": 4,
   "metadata": {},
   "outputs": [],
   "source": [
    "X = np.array(data)"
   ]
  },
  {
   "cell_type": "code",
   "execution_count": 5,
   "metadata": {},
   "outputs": [
    {
     "data": {
      "text/plain": [
       "<matplotlib.axes._subplots.AxesSubplot at 0x7f16c40b6b00>"
      ]
     },
     "execution_count": 5,
     "metadata": {},
     "output_type": "execute_result"
    },
    {
     "data": {
      "image/png": "[encoded data removed]",
      "text/plain": [
       "<Figure size 432x288 with 1 Axes>"
      ]
     },
     "metadata": {
      "image/png": {
       "height": 251,
       "width": 402
      },
      "needs_background": "light"
     },
     "output_type": "display_data"
    }
   ],
   "source": [
    "from sklearn.cluster import KMeans\n",
    "\n",
    "\n",
    "kmeans = KMeans(n_clusters = 3, init = 'k-means++', random_state = 42)\n",
    "y_kmeans = kmeans.fit_predict(data)\n",
    "data['y'] = y_kmeans\n",
    "\n",
    "sb.countplot(x=y_kmeans, data=data)"
   ]
  },
  {
   "cell_type": "code",
   "execution_count": 6,
   "metadata": {},
   "outputs": [],
   "source": [
    "X = data.drop(columns='y')\n",
    "y = data['y']"
   ]
  },
  {
   "cell_type": "code",
   "execution_count": 7,
   "metadata": {},
   "outputs": [],
   "source": [
    "from imblearn.over_sampling import SMOTE\n",
    "\n",
    "smote = SMOTE(random_state=42, sampling_strategy='auto')\n",
    "X_sm, y_sm = smote.fit_sample(X, y)"
   ]
  },
  {
   "cell_type": "code",
   "execution_count": 8,
   "metadata": {},
   "outputs": [
    {
     "data": {
      "text/plain": [
       "((4225, 39), (6177, 39), (6177,))"
      ]
     },
     "execution_count": 8,
     "metadata": {},
     "output_type": "execute_result"
    }
   ],
   "source": [
    "X.shape, X_sm.shape, y_sm.shape"
   ]
  },
  {
   "cell_type": "code",
   "execution_count": 9,
   "metadata": {},
   "outputs": [
    {
     "data": {
      "text/plain": [
       "<matplotlib.axes._subplots.AxesSubplot at 0x7f16b9f16b00>"
      ]
     },
     "execution_count": 9,
     "metadata": {},
     "output_type": "execute_result"
    },
    {
     "data": {
      "image/png": "[encoded data removed]",
      "text/plain": [
       "<Figure size 432x288 with 1 Axes>"
      ]
     },
     "metadata": {
      "image/png": {
       "height": 251,
       "width": 402
      },
      "needs_background": "light"
     },
     "output_type": "display_data"
    }
   ],
   "source": [
    "features = data.drop(columns='y')\n",
    "\n",
    "new_data = pd.DataFrame(X_sm, columns=features.columns)\n",
    "new_data['y_sm'] = y_sm\n",
    "\n",
    "sb.countplot(x=y_sm, data = new_data)"
   ]
  },
  {
   "cell_type": "code",
   "execution_count": 10,
   "metadata": {},
   "outputs": [
    {
     "data": {
      "text/plain": [
       "(6177, 40)"
      ]
     },
     "execution_count": 10,
     "metadata": {},
     "output_type": "execute_result"
    }
   ],
   "source": [
    "new_data.shape"
   ]
  },
  {
   "cell_type": "code",
   "execution_count": 11,
   "metadata": {},
   "outputs": [
    {
     "data": {
      "text/html": [
       "<div>\n",
       "<style scoped>\n",
       "    .dataframe tbody tr th:only-of-type {\n",
       "        vertical-align: middle;\n",
       "    }\n",
       "\n",
       "    .dataframe tbody tr th {\n",
       "        vertical-align: top;\n",
       "    }\n",
       "\n",
       "    .dataframe thead th {\n",
       "        text-align: right;\n",
       "    }\n",
       "</style>\n",
       "<table border=\"1\" class=\"dataframe\">\n",
       "  <thead>\n",
       "    <tr style=\"text-align: right;\">\n",
       "      <th></th>\n",
       "      <th>Cpu Count</th>\n",
       "      <th>Cpu Working Time</th>\n",
       "      <th>Cpu idle Time</th>\n",
       "      <th>cpu_percent</th>\n",
       "      <th>Usage Cpu Count</th>\n",
       "      <th>number of software interrupts since boot</th>\n",
       "      <th>number of system calls since boot</th>\n",
       "      <th>number of interrupts since boot</th>\n",
       "      <th>cpu avg load over 1 min</th>\n",
       "      <th>cpu avg load over 5 min</th>\n",
       "      <th>...</th>\n",
       "      <th>number of bytes sent</th>\n",
       "      <th>number of bytes received</th>\n",
       "      <th>number of packets sent</th>\n",
       "      <th>number of packets recived</th>\n",
       "      <th>total number of errors while receiving</th>\n",
       "      <th>total number of errors while sending</th>\n",
       "      <th>total number of incoming packets which were dropped</th>\n",
       "      <th>total number of outgoing packets which were dropped</th>\n",
       "      <th>Boot_Time</th>\n",
       "      <th>y_sm</th>\n",
       "    </tr>\n",
       "  </thead>\n",
       "  <tbody>\n",
       "    <tr>\n",
       "      <th>0</th>\n",
       "      <td>4.0</td>\n",
       "      <td>3733.17</td>\n",
       "      <td>120971.88</td>\n",
       "      <td>31.8</td>\n",
       "      <td>4.0</td>\n",
       "      <td>20838767.0</td>\n",
       "      <td>0.0</td>\n",
       "      <td>200273168.0</td>\n",
       "      <td>0.14</td>\n",
       "      <td>0.33</td>\n",
       "      <td>...</td>\n",
       "      <td>90269129.0</td>\n",
       "      <td>140071937.0</td>\n",
       "      <td>239706.0</td>\n",
       "      <td>432121.0</td>\n",
       "      <td>0.0</td>\n",
       "      <td>1.0</td>\n",
       "      <td>3.0</td>\n",
       "      <td>0.0</td>\n",
       "      <td>8.53</td>\n",
       "      <td>0</td>\n",
       "    </tr>\n",
       "    <tr>\n",
       "      <th>1</th>\n",
       "      <td>4.0</td>\n",
       "      <td>3767.15</td>\n",
       "      <td>121920.71</td>\n",
       "      <td>33.3</td>\n",
       "      <td>4.0</td>\n",
       "      <td>21030713.0</td>\n",
       "      <td>0.0</td>\n",
       "      <td>202313416.0</td>\n",
       "      <td>0.80</td>\n",
       "      <td>0.39</td>\n",
       "      <td>...</td>\n",
       "      <td>90398424.0</td>\n",
       "      <td>140425748.0</td>\n",
       "      <td>240251.0</td>\n",
       "      <td>433093.0</td>\n",
       "      <td>0.0</td>\n",
       "      <td>1.0</td>\n",
       "      <td>3.0</td>\n",
       "      <td>0.0</td>\n",
       "      <td>8.57</td>\n",
       "      <td>0</td>\n",
       "    </tr>\n",
       "    <tr>\n",
       "      <th>2</th>\n",
       "      <td>4.0</td>\n",
       "      <td>3769.52</td>\n",
       "      <td>121938.45</td>\n",
       "      <td>23.8</td>\n",
       "      <td>4.0</td>\n",
       "      <td>21038802.0</td>\n",
       "      <td>0.0</td>\n",
       "      <td>202404974.0</td>\n",
       "      <td>0.73</td>\n",
       "      <td>0.39</td>\n",
       "      <td>...</td>\n",
       "      <td>90403041.0</td>\n",
       "      <td>140430950.0</td>\n",
       "      <td>240269.0</td>\n",
       "      <td>433117.0</td>\n",
       "      <td>0.0</td>\n",
       "      <td>1.0</td>\n",
       "      <td>3.0</td>\n",
       "      <td>0.0</td>\n",
       "      <td>8.57</td>\n",
       "      <td>0</td>\n",
       "    </tr>\n",
       "    <tr>\n",
       "      <th>3</th>\n",
       "      <td>4.0</td>\n",
       "      <td>3773.42</td>\n",
       "      <td>121984.77</td>\n",
       "      <td>25.0</td>\n",
       "      <td>4.0</td>\n",
       "      <td>21054241.0</td>\n",
       "      <td>0.0</td>\n",
       "      <td>202500215.0</td>\n",
       "      <td>0.69</td>\n",
       "      <td>0.39</td>\n",
       "      <td>...</td>\n",
       "      <td>90409865.0</td>\n",
       "      <td>140438873.0</td>\n",
       "      <td>240294.0</td>\n",
       "      <td>433158.0</td>\n",
       "      <td>0.0</td>\n",
       "      <td>1.0</td>\n",
       "      <td>3.0</td>\n",
       "      <td>0.0</td>\n",
       "      <td>8.58</td>\n",
       "      <td>0</td>\n",
       "    </tr>\n",
       "    <tr>\n",
       "      <th>4</th>\n",
       "      <td>4.0</td>\n",
       "      <td>3778.91</td>\n",
       "      <td>122102.01</td>\n",
       "      <td>25.0</td>\n",
       "      <td>4.0</td>\n",
       "      <td>21078850.0</td>\n",
       "      <td>0.0</td>\n",
       "      <td>202692540.0</td>\n",
       "      <td>0.47</td>\n",
       "      <td>0.37</td>\n",
       "      <td>...</td>\n",
       "      <td>90423946.0</td>\n",
       "      <td>140451107.0</td>\n",
       "      <td>240349.0</td>\n",
       "      <td>433242.0</td>\n",
       "      <td>0.0</td>\n",
       "      <td>1.0</td>\n",
       "      <td>3.0</td>\n",
       "      <td>0.0</td>\n",
       "      <td>8.58</td>\n",
       "      <td>0</td>\n",
       "    </tr>\n",
       "  </tbody>\n",
       "</table>\n",
       "<p>5 rows × 40 columns</p>\n",
       "</div>"
      ],
      "text/plain": [
       "   Cpu Count  Cpu Working Time  Cpu idle Time  cpu_percent  Usage Cpu Count   \\\n",
       "0        4.0           3733.17      120971.88         31.8               4.0   \n",
       "1        4.0           3767.15      121920.71         33.3               4.0   \n",
       "2        4.0           3769.52      121938.45         23.8               4.0   \n",
       "3        4.0           3773.42      121984.77         25.0               4.0   \n",
       "4        4.0           3778.91      122102.01         25.0               4.0   \n",
       "\n",
       "   number of software interrupts since boot  \\\n",
       "0                                20838767.0   \n",
       "1                                21030713.0   \n",
       "2                                21038802.0   \n",
       "3                                21054241.0   \n",
       "4                                21078850.0   \n",
       "\n",
       "   number of system calls since boot  number of interrupts since boot  \\\n",
       "0                                0.0                      200273168.0   \n",
       "1                                0.0                      202313416.0   \n",
       "2                                0.0                      202404974.0   \n",
       "3                                0.0                      202500215.0   \n",
       "4                                0.0                      202692540.0   \n",
       "\n",
       "   cpu avg load over 1 min  cpu avg load over 5 min  ...  \\\n",
       "0                     0.14                     0.33  ...   \n",
       "1                     0.80                     0.39  ...   \n",
       "2                     0.73                     0.39  ...   \n",
       "3                     0.69                     0.39  ...   \n",
       "4                     0.47                     0.37  ...   \n",
       "\n",
       "   number of bytes sent  number of bytes received  number of packets sent  \\\n",
       "0            90269129.0               140071937.0                239706.0   \n",
       "1            90398424.0               140425748.0                240251.0   \n",
       "2            90403041.0               140430950.0                240269.0   \n",
       "3            90409865.0               140438873.0                240294.0   \n",
       "4            90423946.0               140451107.0                240349.0   \n",
       "\n",
       "   number of packets recived  total number of errors while receiving  \\\n",
       "0                   432121.0                                     0.0   \n",
       "1                   433093.0                                     0.0   \n",
       "2                   433117.0                                     0.0   \n",
       "3                   433158.0                                     0.0   \n",
       "4                   433242.0                                     0.0   \n",
       "\n",
       "   total number of errors while sending  \\\n",
       "0                                   1.0   \n",
       "1                                   1.0   \n",
       "2                                   1.0   \n",
       "3                                   1.0   \n",
       "4                                   1.0   \n",
       "\n",
       "   total number of incoming packets which were dropped  \\\n",
       "0                                                3.0     \n",
       "1                                                3.0     \n",
       "2                                                3.0     \n",
       "3                                                3.0     \n",
       "4                                                3.0     \n",
       "\n",
       "   total number of outgoing packets which were dropped  Boot_Time  y_sm  \n",
       "0                                                0.0         8.53     0  \n",
       "1                                                0.0         8.57     0  \n",
       "2                                                0.0         8.57     0  \n",
       "3                                                0.0         8.58     0  \n",
       "4                                                0.0         8.58     0  \n",
       "\n",
       "[5 rows x 40 columns]"
      ]
     },
     "execution_count": 11,
     "metadata": {},
     "output_type": "execute_result"
    }
   ],
   "source": [
    "new_data.head()"
   ]
  },
  {
   "cell_type": "code",
   "execution_count": 12,
   "metadata": {},
   "outputs": [],
   "source": [
    "z = []\n",
    "o = []\n",
    "t = []\n",
    "for i in range(len(new_data)):\n",
    "    if new_data['y_sm'][i] == 0:\n",
    "        z.append(i)\n",
    "    elif new_data['y_sm'][i] == 1:\n",
    "        o.append(i)\n",
    "    else :\n",
    "        t.append(i)"
   ]
  },
  {
   "cell_type": "code",
   "execution_count": 13,
   "metadata": {},
   "outputs": [
    {
     "data": {
      "text/plain": [
       "(6177, 40)"
      ]
     },
     "execution_count": 13,
     "metadata": {},
     "output_type": "execute_result"
    }
   ],
   "source": [
    "new_data.shape"
   ]
  },
  {
   "cell_type": "code",
   "execution_count": 14,
   "metadata": {},
   "outputs": [
    {
     "data": {
      "text/plain": [
       "Cpu Count                                                 1\n",
       "Cpu Working Time                                       6037\n",
       "Cpu idle Time                                          6176\n",
       "cpu_percent                                            1872\n",
       "Usage Cpu Count                                           1\n",
       "number of software interrupts since boot               6177\n",
       "number of system calls since boot                         1\n",
       "number of interrupts since boot                        6177\n",
       "cpu avg load over 1 min                                2081\n",
       "cpu avg load over 5 min                                2061\n",
       "cpu avg load over 15 min                               2024\n",
       "system_total_memory                                     526\n",
       "system_used_memory                                     5733\n",
       "system_free_memory                                     5998\n",
       "system_active_memory                                   6010\n",
       "system_inactive_memory                                 3976\n",
       "system_buffers_memory                                  5923\n",
       "system_cached_memory                                   4579\n",
       "system_shared_memory                                   2581\n",
       "system_avalible_memory                                 5740\n",
       "disk_total_memory                                        11\n",
       "disk_used_memory                                       3705\n",
       "disk_free_memory                                       3707\n",
       "disk_read_count                                        2241\n",
       "disk_write_count                                       6075\n",
       "disk_read_bytes                                        2241\n",
       "disk_write_bytes                                       6160\n",
       "time spent reading from disk                           2238\n",
       "time spent writing to disk                             6148\n",
       "time spent doing actual I/Os                           6050\n",
       "number of bytes sent                                   6177\n",
       "number of bytes received                               6177\n",
       "number of packets sent                                 6096\n",
       "number of packets recived                              6152\n",
       "total number of errors while receiving                    1\n",
       "total number of errors while sending                      2\n",
       "total number of incoming packets which were dropped      10\n",
       "total number of outgoing packets which were dropped       1\n",
       "Boot_Time                                              2700\n",
       "y_sm                                                      3\n",
       "dtype: int64"
      ]
     },
     "execution_count": 14,
     "metadata": {},
     "output_type": "execute_result"
    }
   ],
   "source": [
    "new_data.nunique()"
   ]
  },
  {
   "cell_type": "code",
   "execution_count": 15,
   "metadata": {},
   "outputs": [],
   "source": [
    "new_data.drop(columns=['total number of outgoing packets which were dropped'\n",
    "                      ,'total number of errors while receiving', 'number of system calls since boot'\n",
    "                      , 'Usage Cpu Count ', 'Cpu Count'\n",
    "                       ,'total number of outgoing packets which were dropped', 'disk_total_memory'], inplace=True)"
   ]
  },
  {
   "cell_type": "code",
   "execution_count": 16,
   "metadata": {},
   "outputs": [
    {
     "data": {
      "text/plain": [
       "<matplotlib.axes._subplots.AxesSubplot at 0x7f16b9e8c828>"
      ]
     },
     "execution_count": 16,
     "metadata": {},
     "output_type": "execute_result"
    },
    {
     "data": {
      "image/png": "[encoded data removed]",
      "text/plain": [
       "<Figure size 432x288 with 2 Axes>"
      ]
     },
     "metadata": {
      "image/png": {
       "height": 444,
       "width": 507
      },
      "needs_background": "light"
     },
     "output_type": "display_data"
    }
   ],
   "source": [
    "cor = new_data.corr() #Calculate the correlation of the above variables\n",
    "sns.heatmap(cor, square = True) #Plot the correlation as heat map"
   ]
  },
  {
   "cell_type": "markdown",
   "metadata": {},
   "source": [
    "- 0 ==> Low\n",
    "- 1 ==> Medium\n",
    "- 2 ==> High"
   ]
  },
  {
   "cell_type": "code",
   "execution_count": 17,
   "metadata": {},
   "outputs": [],
   "source": [
    "X = new_data.drop(columns='y_sm')\n",
    "y = new_data['y_sm']\n",
    "\n",
    "from sklearn.decomposition import PCA\n",
    "\n",
    "pca = PCA(n_components=2)\n",
    "X = pca.fit_transform(X)\n",
    "\n",
    "X_train, X_test, y_train, y_test = train_test_split(X, y, test_size = 0.25, random_state = 42)"
   ]
  },
  {
   "cell_type": "code",
   "execution_count": 18,
   "metadata": {},
   "outputs": [
    {
     "data": {
      "text/plain": [
       "(4632, 2)"
      ]
     },
     "execution_count": 18,
     "metadata": {},
     "output_type": "execute_result"
    }
   ],
   "source": [
    "X_train.shape"
   ]
  },
  {
   "cell_type": "code",
   "execution_count": 20,
   "metadata": {},
   "outputs": [
    {
     "data": {
      "text/plain": [
       "(array([[528,   0,   0],\n",
       "        [  0, 521,   0],\n",
       "        [  0,   0, 496]]), 1.0)"
      ]
     },
     "execution_count": 20,
     "metadata": {},
     "output_type": "execute_result"
    }
   ],
   "source": [
    "from xgboost import XGBClassifier\n",
    "from sklearn.metrics import precision_score, accuracy_score\n",
    "classifier = XGBClassifier()\n",
    "classifier.fit(X_train, y_train)\n",
    "\n",
    "# Predicting the Test set results\n",
    "y_pred = classifier.predict(X_test)\n",
    "\n",
    "# Making the Confusion Matrix\n",
    "from sklearn.metrics import confusion_matrix\n",
    "cm = confusion_matrix(y_test, y_pred)\n",
    "\n",
    "a = precision_score(y_pred, y_test, average=None)\n",
    "accuracy = accuracy_score(y_pred, y_test)\n",
    "cm, accuracy"
   ]
  },
  {
   "cell_type": "code",
   "execution_count": 21,
   "metadata": {},
   "outputs": [
    {
     "data": {
      "text/plain": [
       "(array([[528,   0,   0],\n",
       "        [  0, 521,   0],\n",
       "        [ 16,   0, 480]]), 0.9896440129449838)"
      ]
     },
     "execution_count": 21,
     "metadata": {},
     "output_type": "execute_result"
    }
   ],
   "source": [
    "from sklearn.linear_model import LogisticRegression\n",
    "classifier_lr = LogisticRegression()\n",
    "classifier_lr.fit(X_train, y_train)\n",
    "\n",
    "# Predicting the Test set results\n",
    "y_pred = classifier_lr.predict(X_test)\n",
    "\n",
    "# Making the Confusion Matrix\n",
    "from sklearn.metrics import confusion_matrix\n",
    "cm = confusion_matrix(y_test, y_pred)\n",
    "\n",
    "accuracy = accuracy_score(y_pred, y_test)\n",
    "cm, accuracy"
   ]
  },
  {
   "cell_type": "code",
   "execution_count": 22,
   "metadata": {},
   "outputs": [
    {
     "data": {
      "text/plain": [
       "(array([[528,   0,   0],\n",
       "        [  0, 521,   0],\n",
       "        [  0,   0, 496]]), 1.0)"
      ]
     },
     "execution_count": 22,
     "metadata": {},
     "output_type": "execute_result"
    }
   ],
   "source": [
    "from sklearn.ensemble import RandomForestClassifier\n",
    "classifier_rf = RandomForestClassifier()\n",
    "classifier_rf.fit(X_train, y_train)\n",
    "\n",
    "# Predicting the Test set results\n",
    "y_pred = classifier_rf.predict(X_test)\n",
    "\n",
    "# Making the Confusion Matrix\n",
    "from sklearn.metrics import confusion_matrix\n",
    "cm = confusion_matrix(y_test, y_pred)\n",
    "\n",
    "accuracy = accuracy_score(y_pred, y_test)\n",
    "cm, accuracy"
   ]
  },
  {
   "cell_type": "code",
   "execution_count": 23,
   "metadata": {},
   "outputs": [
    {
     "data": {
      "text/plain": [
       "(315.84, 181369.92)"
      ]
     },
     "execution_count": 23,
     "metadata": {},
     "output_type": "execute_result"
    }
   ],
   "source": [
    "new_data['Cpu idle Time'].min(), new_data['Cpu idle Time'].max()"
   ]
  },
  {
   "cell_type": "code",
   "execution_count": 24,
   "metadata": {},
   "outputs": [
    {
     "data": {
      "text/plain": [
       "(25.15, 68373.23)"
      ]
     },
     "execution_count": 24,
     "metadata": {},
     "output_type": "execute_result"
    }
   ],
   "source": [
    "new_data['Cpu Working Time'].min(), new_data['Cpu Working Time'].max()"
   ]
  },
  {
   "cell_type": "code",
   "execution_count": 26,
   "metadata": {},
   "outputs": [],
   "source": [
    "cluster_0 = new_data[new_data['y_sm'] == 0]\n",
    "cluster_1 = new_data[new_data['y_sm'] == 1]\n",
    "cluster_2 = new_data[new_data['y_sm'] == 2]"
   ]
  },
  {
   "cell_type": "code",
   "execution_count": 28,
   "metadata": {},
   "outputs": [
    {
     "name": "stdout",
     "output_type": "stream",
     "text": [
      "Cpu Working Time\n",
      "31.9 - 5256.22\n",
      " \n",
      "70.13 - 8420.31\n",
      " \n",
      "25.15 - 68373.23\n",
      " \n",
      " \n",
      "Cpu idle Time\n",
      "315.84 - 181369.92\n",
      " \n",
      "761.51 - 141100.47\n",
      " \n",
      "368.78 - 163057.12\n",
      " \n",
      " \n",
      "cpu_percent\n",
      "16.0 - 100.0\n",
      " \n",
      "3.6 - 100.0\n",
      " \n",
      "20.7 - 96.9\n",
      " \n",
      " \n",
      "number of software interrupts since boot\n",
      "281247.0 - 28027163.0\n",
      " \n",
      "444709.0 - 47071495.0\n",
      " \n",
      "158614.0 - 133174727.0\n",
      " \n",
      " \n",
      "number of interrupts since boot\n",
      "903887.0 - 232942868.0\n",
      " \n",
      "370030.0 - 80028379.0\n",
      " \n",
      "764607.0 - 247719677.0\n",
      " \n",
      " \n",
      "cpu avg load over 1 min\n",
      "0.0 - 4.54\n",
      " \n",
      "0.0 - 3.25\n",
      " \n",
      "0.0 - 3.96\n",
      " \n",
      " \n",
      "cpu avg load over 5 min\n",
      "0.0 - 1.65\n",
      " \n",
      "0.0 - 2.47\n",
      " \n",
      "0.0 - 3.12\n",
      " \n",
      " \n",
      "cpu avg load over 15 min\n",
      "0.0 - 0.83\n",
      " \n",
      "0.0 - 2.3\n",
      " \n",
      "0.0 - 1.93\n",
      " \n",
      " \n",
      "system_total_memory\n",
      "16776867840.0 - 16776884224.0\n",
      " \n",
      "8182292480.0 - 8284880896.0\n",
      " \n",
      "16683192320.0 - 16776884224.0\n",
      " \n",
      " \n",
      "system_used_memory\n",
      "1154301952.0 - 6781157376.0\n",
      " \n",
      "1400451072.0 - 7457054720.0\n",
      " \n",
      "643899392.0 - 9895251968.0\n",
      " \n",
      " \n",
      "system_free_memory\n",
      "9446146048.0 - 14459940864.0\n",
      " \n",
      "122146816.0 - 5348589568.0\n",
      " \n",
      "3495211008.0 - 14733697024.0\n",
      " \n",
      " \n",
      "system_active_memory\n",
      "1413316608.0 - 5147295744.0\n",
      " \n",
      "1726152704.0 - 6648131584.0\n",
      " \n",
      "995561472.0 - 10085478400.0\n",
      " \n",
      " \n",
      "system_inactive_memory\n",
      "460169216.0 - 1919635456.0\n",
      " \n",
      "834899968.0 - 1977614336.0\n",
      " \n",
      "557826048.0 - 4376367104.0\n",
      " \n",
      " \n",
      "system_buffers_memory\n",
      "22061056.0 - 303341568.0\n",
      " \n",
      "22278144.0 - 654499840.0\n",
      " \n",
      "68030464.0 - 516345856.0\n",
      " \n",
      " \n",
      "system_cached_memory\n",
      "937623552.0 - 3201236992.0\n",
      " \n",
      "637165568.0 - 3405377536.0\n",
      " \n",
      "982261760.0 - 6108012544.0\n",
      " \n",
      " \n",
      "system_shared_memory\n",
      "2674688.0 - 615137280.0\n",
      " \n",
      "176603136.0 - 878948352.0\n",
      " \n",
      "1982464.0 - 433385472.0\n",
      " \n",
      " \n",
      "system_avalible_memory\n",
      "12070080512.0 - 15279476736.0\n",
      " \n",
      "271867904.0 - 6426316800.0\n",
      " \n",
      "6007226368.0 - 15786409984.0\n",
      " \n",
      " \n",
      "disk_used_memory\n",
      "16443006976.0 - 19267874816.0\n",
      " \n",
      "17666592768.0 - 73816121344.0\n",
      " \n",
      "20539117568.0 - 146629570560.0\n",
      " \n",
      " \n",
      "disk_free_memory\n",
      "913632628736.0 - 916457496576.0\n",
      " \n",
      "223635910656.0 - 279785439232.0\n",
      " \n",
      "786270932992.0 - 912361385984.0\n",
      " \n",
      " \n",
      "disk_read_count\n",
      "25844.0 - 104180.0\n",
      " \n",
      "29251.0 - 379624.0\n",
      " \n",
      "24151.0 - 2811629.0\n",
      " \n",
      " \n",
      "disk_write_count\n",
      "3145.0 - 153125.0\n",
      " \n",
      "7802.0 - 185750.0\n",
      " \n",
      "2997.0 - 1255448.0\n",
      " \n",
      " \n",
      "disk_read_bytes\n",
      "968656896.0 - 2189891584.0\n",
      " \n",
      "1043578880.0 - 6306345984.0\n",
      " \n",
      "892315648.0 - 28585224192.0\n",
      " \n",
      " \n",
      "disk_write_bytes\n",
      "110162944.0 - 3371283456.0\n",
      " \n",
      "226725888.0 - 8268375040.0\n",
      " \n",
      "155956224.0 - 46412198912.0\n",
      " \n",
      " \n",
      "time spent reading from disk\n",
      "640344.0 - 1600900.0\n",
      " \n",
      "1280696.0 - 8841596.0\n",
      " \n",
      "616752.0 - 44756684.0\n",
      " \n",
      " \n",
      "time spent writing to disk\n",
      "193828.0 - 2678748.0\n",
      " \n",
      "1776660.0 - 60295008.0\n",
      " \n",
      "577492.0 - 193850740.0\n",
      " \n",
      " \n",
      "time spent doing actual I/Os\n",
      "86356.0 - 591724.0\n",
      " \n",
      "164996.0 - 1751280.0\n",
      " \n",
      "73516.0 - 24446048.0\n",
      " \n",
      " \n",
      "number of bytes sent\n",
      "137317.0 - 90486774.0\n",
      " \n",
      "1213796.0 - 210966950.0\n",
      " \n",
      "126667.0 - 505624980.0\n",
      " \n",
      " \n",
      "number of bytes received\n",
      "1743290.0 - 418779020.0\n",
      " \n",
      "8539406.0 - 2146610543.0\n",
      " \n",
      "1606499.0 - 2062836666.0\n",
      " \n",
      " \n",
      "number of packets sent\n",
      "1108.0 - 254726.0\n",
      " \n",
      "11787.0 - 902188.0\n",
      " \n",
      "1382.0 - 1667339.0\n",
      " \n",
      " \n",
      "number of packets recived\n",
      "7399.0 - 464846.0\n",
      " \n",
      "27071.0 - 1882649.0\n",
      " \n",
      "2127.0 - 3505139.0\n",
      " \n",
      " \n",
      "total number of errors while sending\n",
      "0.0 - 1.0\n",
      " \n",
      "0.0 - 0.0\n",
      " \n",
      "0.0 - 0.0\n",
      " \n",
      " \n",
      "total number of incoming packets which were dropped\n",
      "0.0 - 34.0\n",
      " \n",
      "0.0 - 0.0\n",
      " \n",
      "0.0 - 538.0\n",
      " \n",
      " \n",
      "Boot_Time\n",
      "0.02 - 12.48\n",
      " \n",
      "0.05 - 10.25\n",
      " \n",
      "0.02 - 11.22\n",
      " \n",
      " \n",
      "y_sm\n",
      "0 - 0\n",
      " \n",
      "1 - 1\n",
      " \n",
      "2 - 2\n",
      " \n",
      " \n"
     ]
    }
   ],
   "source": [
    "for i in new_data.columns:\n",
    "    print(i)\n",
    "    print(cluster_0[i].min() , \"-\" , cluster_0[i].max())\n",
    "    print(' ')\n",
    "    print(cluster_1[i].min(), \"-\" ,cluster_1[i].max())\n",
    "    print(' ')\n",
    "    print(cluster_2[i].min(), \"-\" ,cluster_2[i].max())\n",
    "    print(' ')\n",
    "#     print(cluster_3[i].min(), \"-\" ,cluster_3[i].max())\n",
    "#     print(' ')\n",
    "#     print(cluster_4[i].min(), \"-\" ,cluster_4[i].max())\n",
    "    print(' ')"
   ]
  },
  {
   "cell_type": "code",
   "execution_count": 29,
   "metadata": {},
   "outputs": [
    {
     "data": {
      "text/html": [
       "<div>\n",
       "<style scoped>\n",
       "    .dataframe tbody tr th:only-of-type {\n",
       "        vertical-align: middle;\n",
       "    }\n",
       "\n",
       "    .dataframe tbody tr th {\n",
       "        vertical-align: top;\n",
       "    }\n",
       "\n",
       "    .dataframe thead th {\n",
       "        text-align: right;\n",
       "    }\n",
       "</style>\n",
       "<table border=\"1\" class=\"dataframe\">\n",
       "  <thead>\n",
       "    <tr style=\"text-align: right;\">\n",
       "      <th></th>\n",
       "      <th>Cpu Working Time</th>\n",
       "      <th>Cpu idle Time</th>\n",
       "      <th>cpu_percent</th>\n",
       "      <th>number of software interrupts since boot</th>\n",
       "      <th>number of interrupts since boot</th>\n",
       "      <th>cpu avg load over 1 min</th>\n",
       "      <th>cpu avg load over 5 min</th>\n",
       "      <th>cpu avg load over 15 min</th>\n",
       "      <th>system_total_memory</th>\n",
       "      <th>system_used_memory</th>\n",
       "      <th>...</th>\n",
       "      <th>time spent writing to disk</th>\n",
       "      <th>time spent doing actual I/Os</th>\n",
       "      <th>number of bytes sent</th>\n",
       "      <th>number of bytes received</th>\n",
       "      <th>number of packets sent</th>\n",
       "      <th>number of packets recived</th>\n",
       "      <th>total number of errors while sending</th>\n",
       "      <th>total number of incoming packets which were dropped</th>\n",
       "      <th>Boot_Time</th>\n",
       "      <th>y_sm</th>\n",
       "    </tr>\n",
       "  </thead>\n",
       "  <tbody>\n",
       "    <tr>\n",
       "      <th>0</th>\n",
       "      <td>3733.17</td>\n",
       "      <td>120971.88</td>\n",
       "      <td>31.8</td>\n",
       "      <td>20838767.0</td>\n",
       "      <td>200273168.0</td>\n",
       "      <td>0.14</td>\n",
       "      <td>0.33</td>\n",
       "      <td>0.43</td>\n",
       "      <td>1.677688e+10</td>\n",
       "      <td>6.781157e+09</td>\n",
       "      <td>...</td>\n",
       "      <td>2323096.0</td>\n",
       "      <td>524028.0</td>\n",
       "      <td>90269129.0</td>\n",
       "      <td>140071937.0</td>\n",
       "      <td>239706.0</td>\n",
       "      <td>432121.0</td>\n",
       "      <td>1.0</td>\n",
       "      <td>3.0</td>\n",
       "      <td>8.53</td>\n",
       "      <td>0</td>\n",
       "    </tr>\n",
       "    <tr>\n",
       "      <th>1</th>\n",
       "      <td>3767.15</td>\n",
       "      <td>121920.71</td>\n",
       "      <td>33.3</td>\n",
       "      <td>21030713.0</td>\n",
       "      <td>202313416.0</td>\n",
       "      <td>0.80</td>\n",
       "      <td>0.39</td>\n",
       "      <td>0.42</td>\n",
       "      <td>1.677688e+10</td>\n",
       "      <td>6.744269e+09</td>\n",
       "      <td>...</td>\n",
       "      <td>2331848.0</td>\n",
       "      <td>527724.0</td>\n",
       "      <td>90398424.0</td>\n",
       "      <td>140425748.0</td>\n",
       "      <td>240251.0</td>\n",
       "      <td>433093.0</td>\n",
       "      <td>1.0</td>\n",
       "      <td>3.0</td>\n",
       "      <td>8.57</td>\n",
       "      <td>0</td>\n",
       "    </tr>\n",
       "    <tr>\n",
       "      <th>2</th>\n",
       "      <td>3769.52</td>\n",
       "      <td>121938.45</td>\n",
       "      <td>23.8</td>\n",
       "      <td>21038802.0</td>\n",
       "      <td>202404974.0</td>\n",
       "      <td>0.73</td>\n",
       "      <td>0.39</td>\n",
       "      <td>0.42</td>\n",
       "      <td>1.677688e+10</td>\n",
       "      <td>6.746046e+09</td>\n",
       "      <td>...</td>\n",
       "      <td>2331872.0</td>\n",
       "      <td>527748.0</td>\n",
       "      <td>90403041.0</td>\n",
       "      <td>140430950.0</td>\n",
       "      <td>240269.0</td>\n",
       "      <td>433117.0</td>\n",
       "      <td>1.0</td>\n",
       "      <td>3.0</td>\n",
       "      <td>8.57</td>\n",
       "      <td>0</td>\n",
       "    </tr>\n",
       "    <tr>\n",
       "      <th>3</th>\n",
       "      <td>3773.42</td>\n",
       "      <td>121984.77</td>\n",
       "      <td>25.0</td>\n",
       "      <td>21054241.0</td>\n",
       "      <td>202500215.0</td>\n",
       "      <td>0.69</td>\n",
       "      <td>0.39</td>\n",
       "      <td>0.42</td>\n",
       "      <td>1.677688e+10</td>\n",
       "      <td>6.745641e+09</td>\n",
       "      <td>...</td>\n",
       "      <td>2331916.0</td>\n",
       "      <td>527792.0</td>\n",
       "      <td>90409865.0</td>\n",
       "      <td>140438873.0</td>\n",
       "      <td>240294.0</td>\n",
       "      <td>433158.0</td>\n",
       "      <td>1.0</td>\n",
       "      <td>3.0</td>\n",
       "      <td>8.58</td>\n",
       "      <td>0</td>\n",
       "    </tr>\n",
       "    <tr>\n",
       "      <th>4</th>\n",
       "      <td>3778.91</td>\n",
       "      <td>122102.01</td>\n",
       "      <td>25.0</td>\n",
       "      <td>21078850.0</td>\n",
       "      <td>202692540.0</td>\n",
       "      <td>0.47</td>\n",
       "      <td>0.37</td>\n",
       "      <td>0.41</td>\n",
       "      <td>1.677688e+10</td>\n",
       "      <td>6.754492e+09</td>\n",
       "      <td>...</td>\n",
       "      <td>2332252.0</td>\n",
       "      <td>528036.0</td>\n",
       "      <td>90423946.0</td>\n",
       "      <td>140451107.0</td>\n",
       "      <td>240349.0</td>\n",
       "      <td>433242.0</td>\n",
       "      <td>1.0</td>\n",
       "      <td>3.0</td>\n",
       "      <td>8.58</td>\n",
       "      <td>0</td>\n",
       "    </tr>\n",
       "  </tbody>\n",
       "</table>\n",
       "<p>5 rows × 34 columns</p>\n",
       "</div>"
      ],
      "text/plain": [
       "   Cpu Working Time  Cpu idle Time  cpu_percent  \\\n",
       "0           3733.17      120971.88         31.8   \n",
       "1           3767.15      121920.71         33.3   \n",
       "2           3769.52      121938.45         23.8   \n",
       "3           3773.42      121984.77         25.0   \n",
       "4           3778.91      122102.01         25.0   \n",
       "\n",
       "   number of software interrupts since boot  number of interrupts since boot  \\\n",
       "0                                20838767.0                      200273168.0   \n",
       "1                                21030713.0                      202313416.0   \n",
       "2                                21038802.0                      202404974.0   \n",
       "3                                21054241.0                      202500215.0   \n",
       "4                                21078850.0                      202692540.0   \n",
       "\n",
       "   cpu avg load over 1 min  cpu avg load over 5 min  cpu avg load over 15 min  \\\n",
       "0                     0.14                     0.33                      0.43   \n",
       "1                     0.80                     0.39                      0.42   \n",
       "2                     0.73                     0.39                      0.42   \n",
       "3                     0.69                     0.39                      0.42   \n",
       "4                     0.47                     0.37                      0.41   \n",
       "\n",
       "   system_total_memory  system_used_memory  ...  time spent writing to disk  \\\n",
       "0         1.677688e+10        6.781157e+09  ...                   2323096.0   \n",
       "1         1.677688e+10        6.744269e+09  ...                   2331848.0   \n",
       "2         1.677688e+10        6.746046e+09  ...                   2331872.0   \n",
       "3         1.677688e+10        6.745641e+09  ...                   2331916.0   \n",
       "4         1.677688e+10        6.754492e+09  ...                   2332252.0   \n",
       "\n",
       "   time spent doing actual I/Os  number of bytes sent  \\\n",
       "0                      524028.0            90269129.0   \n",
       "1                      527724.0            90398424.0   \n",
       "2                      527748.0            90403041.0   \n",
       "3                      527792.0            90409865.0   \n",
       "4                      528036.0            90423946.0   \n",
       "\n",
       "   number of bytes received  number of packets sent  \\\n",
       "0               140071937.0                239706.0   \n",
       "1               140425748.0                240251.0   \n",
       "2               140430950.0                240269.0   \n",
       "3               140438873.0                240294.0   \n",
       "4               140451107.0                240349.0   \n",
       "\n",
       "   number of packets recived  total number of errors while sending  \\\n",
       "0                   432121.0                                   1.0   \n",
       "1                   433093.0                                   1.0   \n",
       "2                   433117.0                                   1.0   \n",
       "3                   433158.0                                   1.0   \n",
       "4                   433242.0                                   1.0   \n",
       "\n",
       "   total number of incoming packets which were dropped  Boot_Time  y_sm  \n",
       "0                                                3.0         8.53     0  \n",
       "1                                                3.0         8.57     0  \n",
       "2                                                3.0         8.57     0  \n",
       "3                                                3.0         8.58     0  \n",
       "4                                                3.0         8.58     0  \n",
       "\n",
       "[5 rows x 34 columns]"
      ]
     },
     "execution_count": 29,
     "metadata": {},
     "output_type": "execute_result"
    }
   ],
   "source": [
    "new_data.head()"
   ]
  },
  {
   "cell_type": "code",
   "execution_count": 32,
   "metadata": {},
   "outputs": [
    {
     "data": {
      "text/plain": [
       "array([1., 2., 3., 4., 5., 6., 7., 8., 9.])"
      ]
     },
     "execution_count": 32,
     "metadata": {},
     "output_type": "execute_result"
    }
   ],
   "source": [
    "np.arange(1.0, 10.0)"
   ]
  },
  {
   "cell_type": "code",
   "execution_count": 37,
   "metadata": {},
   "outputs": [
    {
     "data": {
      "text/plain": [
       "84"
      ]
     },
     "execution_count": 37,
     "metadata": {},
     "output_type": "execute_result"
    }
   ],
   "source": [
    "import random\n",
    "random.randrange(1.0,101.0)"
   ]
  },
  {
   "cell_type": "code",
   "execution_count": 40,
   "metadata": {},
   "outputs": [
    {
     "data": {
      "text/plain": [
       "6.37250730684744"
      ]
     },
     "execution_count": 40,
     "metadata": {},
     "output_type": "execute_result"
    }
   ],
   "source": [
    "# random.uniform(1, 12)"
   ]
  },
  {
   "cell_type": "code",
   "execution_count": null,
   "metadata": {},
   "outputs": [],
   "source": []
  }
 ],
 "metadata": {
  "kernelspec": {
   "display_name": "Python 3",
   "language": "python",
   "name": "python3"
  },
  "language_info": {
   "codemirror_mode": {
    "name": "ipython",
    "version": 3
   },
   "file_extension": ".py",
   "mimetype": "text/x-python",
   "name": "python",
   "nbconvert_exporter": "python",
   "pygments_lexer": "ipython3",
   "version": "3.6.8"
  }
 },
 "nbformat": 4,
 "nbformat_minor": 2
}
