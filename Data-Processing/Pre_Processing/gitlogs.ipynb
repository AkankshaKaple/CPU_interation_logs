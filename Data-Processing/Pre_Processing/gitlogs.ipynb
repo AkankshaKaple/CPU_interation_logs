{
 "cells": [
  {
   "cell_type": "code",
   "execution_count": 74,
   "metadata": {},
   "outputs": [],
   "source": [
    "import json\n",
    "import requests\n",
    "import numpy as np\n",
    "import pandas as pd\n",
    "import datetime\n",
    "import requests\n",
    "from requests.auth import HTTPBasicAuth\n",
    "\n",
    "credentials = json.loads(open('credentials.json').read())\n",
    "authentication = HTTPBasicAuth(credentials['username'], credentials['password'])"
   ]
  },
  {
   "cell_type": "code",
   "execution_count": 75,
   "metadata": {},
   "outputs": [],
   "source": [
    "data = requests.get('https://api.github.com/users/' + \"prayas2409\",\n",
    "                    auth = authentication)\n",
    "data = data.json()"
   ]
  },
  {
   "cell_type": "code",
   "execution_count": 64,
   "metadata": {},
   "outputs": [],
   "source": [
    "# # count number of repositories\n",
    "# url = data['repos_url']\n",
    "# page_no = 1\n",
    "# repos_data = []\n",
    "# while (True):\n",
    "#     response = requests.get(url, auth = authentication)\n",
    "#     response = response.json()\n",
    "#     repos_data = repos_data + response\n",
    "#     repos_fetched = len(response)\n",
    "#     print(\"Total repositories fetched: {}\".format(repos_fetched))\n",
    "#     if (repos_fetched == 30):\n",
    "#         page_no = page_no + 1\n",
    "#         url = data['repos_url'] + '?page=' + str(page_no)\n",
    "#     else:\n",
    "#         break\n"
   ]
  },
  {
   "cell_type": "code",
   "execution_count": 102,
   "metadata": {},
   "outputs": [],
   "source": [
    "# requests.post(\"https://api.github.com/repos/prayas2409/AlgorithmsCompletedCsharp/commits\",)\n",
    "\n",
    "# https://github.com/AkankshaKaple/CPU_interation_logs\n",
    "# https://api.github.com/repos/prayas2409/AlgorithmsCompletedCsharp/commits\n",
    "users=[\"AkankshaKaple/CPU_interation_logs\",\"prayas2409/automationscritps\",\"prayas2409/GCP_work_python\"]"
   ]
  },
  {
   "cell_type": "code",
   "execution_count": 98,
   "metadata": {},
   "outputs": [],
   "source": [
    "response = requests.get(\"https://api.github.com/repos/prayas2409/automationscritps/commits\", auth = authentication)\n",
    "response = response.json()"
   ]
  },
  {
   "cell_type": "code",
   "execution_count": 108,
   "metadata": {},
   "outputs": [
    {
     "name": "stdout",
     "output_type": "stream",
     "text": [
      "for AkankshaKaple:\n",
      "just test file 2019-09-09\n",
      "\n",
      "\n",
      "for prayas2409:\n",
      "Scripts only for local systems 2019-09-05\n",
      "\n",
      "\n",
      "for prayas2409:\n",
      "\n",
      "\n"
     ]
    }
   ],
   "source": [
    "# response\n",
    "for each in users:\n",
    "    username=each.split(\"/\")[0]\n",
    "    print(\"for {}:\".format(username))\n",
    "    response = requests.get(\"https://api.github.com/repos/{}/commits\".format(each), auth = authentication)\n",
    "    response = response.json()\n",
    "    commit_df = pd.DataFrame(columns = ['Commit Id', 'Date', 'Message']) \n",
    "    for commit in response:\n",
    "        commit_data = []\n",
    "    #     commit_data.append(repos_df.loc[i, 'Id'])\n",
    "        commit_data.append(commit['sha'])\n",
    "        commit_data.append(commit['commit']['committer']['date'])\n",
    "        commit_data.append(commit['commit']['message'])\n",
    "        commit_df.loc[len(commit_df)] = commit_data\n",
    "    commit_df[\"Date\"]=pd.to_datetime(commit_df['Date'])\n",
    "    commit_df['Dates'] = pd.to_datetime(commit_df['Date']).dt.date\n",
    "    commit_df['Time'] = pd.to_datetime(commit_df['Date']).dt.time\n",
    "\n",
    "    for i in range(0,commit_df.shape[0]):\n",
    "        if datetime.datetime.now()>=commit_df['Date'][i] and commit_df['Date'][i]>=datetime.datetime.now()-datetime.timedelta(days=7):\n",
    "            print(commit_df['Message'][i],(commit_df['Dates'][i]))\n",
    "    print(\"\\n\")"
   ]
  },
  {
   "cell_type": "code",
   "execution_count": 100,
   "metadata": {},
   "outputs": [
    {
     "data": {
      "text/html": [
       "<div>\n",
       "<style scoped>\n",
       "    .dataframe tbody tr th:only-of-type {\n",
       "        vertical-align: middle;\n",
       "    }\n",
       "\n",
       "    .dataframe tbody tr th {\n",
       "        vertical-align: top;\n",
       "    }\n",
       "\n",
       "    .dataframe thead th {\n",
       "        text-align: right;\n",
       "    }\n",
       "</style>\n",
       "<table border=\"1\" class=\"dataframe\">\n",
       "  <thead>\n",
       "    <tr style=\"text-align: right;\">\n",
       "      <th></th>\n",
       "      <th>Commit Id</th>\n",
       "      <th>Date</th>\n",
       "      <th>Message</th>\n",
       "      <th>Dates</th>\n",
       "      <th>Time</th>\n",
       "    </tr>\n",
       "  </thead>\n",
       "  <tbody>\n",
       "    <tr>\n",
       "      <th>0</th>\n",
       "      <td>78dbc6ad9ddf0a38ba3f13f08ff14815df004ff2</td>\n",
       "      <td>2019-09-05 07:44:01</td>\n",
       "      <td>Scripts only for local systems</td>\n",
       "      <td>2019-09-05</td>\n",
       "      <td>07:44:01</td>\n",
       "    </tr>\n",
       "    <tr>\n",
       "      <th>1</th>\n",
       "      <td>b12dadea836e3b603a8bbda99101c827e0853eb3</td>\n",
       "      <td>2019-08-31 13:11:24</td>\n",
       "      <td>keys added in local py script for csv file</td>\n",
       "      <td>2019-08-31</td>\n",
       "      <td>13:11:24</td>\n",
       "    </tr>\n",
       "    <tr>\n",
       "      <th>2</th>\n",
       "      <td>ef414392caa4cba802f7281ce73517932b43a8d0</td>\n",
       "      <td>2019-08-31 12:55:23</td>\n",
       "      <td>corrected and working scripts for automation</td>\n",
       "      <td>2019-08-31</td>\n",
       "      <td>12:55:23</td>\n",
       "    </tr>\n",
       "    <tr>\n",
       "      <th>3</th>\n",
       "      <td>31e91db119cf8c32b3a67ddf4171394439c9dc36</td>\n",
       "      <td>2019-08-31 12:42:54</td>\n",
       "      <td>chaned file to take step by step</td>\n",
       "      <td>2019-08-31</td>\n",
       "      <td>12:42:54</td>\n",
       "    </tr>\n",
       "    <tr>\n",
       "      <th>4</th>\n",
       "      <td>f23054c0d83511e78523e02076b96b4e4ca76e4c</td>\n",
       "      <td>2019-08-31 12:37:30</td>\n",
       "      <td>corrected scripts to proce step by step</td>\n",
       "      <td>2019-08-31</td>\n",
       "      <td>12:37:30</td>\n",
       "    </tr>\n",
       "  </tbody>\n",
       "</table>\n",
       "</div>"
      ],
      "text/plain": [
       "                                  Commit Id                Date  \\\n",
       "0  78dbc6ad9ddf0a38ba3f13f08ff14815df004ff2 2019-09-05 07:44:01   \n",
       "1  b12dadea836e3b603a8bbda99101c827e0853eb3 2019-08-31 13:11:24   \n",
       "2  ef414392caa4cba802f7281ce73517932b43a8d0 2019-08-31 12:55:23   \n",
       "3  31e91db119cf8c32b3a67ddf4171394439c9dc36 2019-08-31 12:42:54   \n",
       "4  f23054c0d83511e78523e02076b96b4e4ca76e4c 2019-08-31 12:37:30   \n",
       "\n",
       "                                        Message       Dates      Time  \n",
       "0                Scripts only for local systems  2019-09-05  07:44:01  \n",
       "1    keys added in local py script for csv file  2019-08-31  13:11:24  \n",
       "2  corrected and working scripts for automation  2019-08-31  12:55:23  \n",
       "3              chaned file to take step by step  2019-08-31  12:42:54  \n",
       "4       corrected scripts to proce step by step  2019-08-31  12:37:30  "
      ]
     },
     "execution_count": 100,
     "metadata": {},
     "output_type": "execute_result"
    }
   ],
   "source": [
    "commit_df.head()"
   ]
  },
  {
   "cell_type": "code",
   "execution_count": 101,
   "metadata": {},
   "outputs": [
    {
     "name": "stdout",
     "output_type": "stream",
     "text": [
      "Scripts only for local systems 2019-09-05\n"
     ]
    }
   ],
   "source": [
    "\n"
   ]
  },
  {
   "cell_type": "code",
   "execution_count": 44,
   "metadata": {},
   "outputs": [
    {
     "data": {
      "text/plain": [
       "Timedelta('221 days 06:32:51.046893')"
      ]
     },
     "execution_count": 44,
     "metadata": {},
     "output_type": "execute_result"
    }
   ],
   "source": [
    "datetime.datetime.now() datetime.timedelta(days=7)\n",
    "# pd.to_datetime(commit_df['Date'][0])"
   ]
  },
  {
   "cell_type": "code",
   "execution_count": null,
   "metadata": {},
   "outputs": [],
   "source": [
    "datetime.datetime.now()-commit_df.Dates[0]+datetime.timedelta(days=10)"
   ]
  }
 ],
 "metadata": {
  "kernelspec": {
   "display_name": "Python 3",
   "language": "python",
   "name": "python3"
  },
  "language_info": {
   "codemirror_mode": {
    "name": "ipython",
    "version": 3
   },
   "file_extension": ".py",
   "mimetype": "text/x-python",
   "name": "python",
   "nbconvert_exporter": "python",
   "pygments_lexer": "ipython3",
   "version": "3.6.5"
  }
 },
 "nbformat": 4,
 "nbformat_minor": 2
}
