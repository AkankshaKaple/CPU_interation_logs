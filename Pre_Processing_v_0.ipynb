{
 "cells": [
  {
   "cell_type": "code",
   "execution_count": 12,
   "metadata": {},
   "outputs": [],
   "source": [
    "import numpy as np\n",
    "import pandas as pd\n",
    "import matplotlib.pyplot as plt\n",
    "import seaborn as sb"
   ]
  },
  {
   "cell_type": "code",
   "execution_count": 13,
   "metadata": {},
   "outputs": [
    {
     "data": {
      "text/html": [
       "<div>\n",
       "<style scoped>\n",
       "    .dataframe tbody tr th:only-of-type {\n",
       "        vertical-align: middle;\n",
       "    }\n",
       "\n",
       "    .dataframe tbody tr th {\n",
       "        vertical-align: top;\n",
       "    }\n",
       "\n",
       "    .dataframe thead th {\n",
       "        text-align: right;\n",
       "    }\n",
       "</style>\n",
       "<table border=\"1\" class=\"dataframe\">\n",
       "  <thead>\n",
       "    <tr style=\"text-align: right;\">\n",
       "      <th></th>\n",
       "      <th>DateTime</th>\n",
       "      <th>Cpu Count</th>\n",
       "      <th>Cpu Working Time</th>\n",
       "      <th>Cpu idle Time</th>\n",
       "      <th>cpu_percent</th>\n",
       "      <th>Usage Cpu Count</th>\n",
       "      <th>number of software interrupts since boot</th>\n",
       "      <th>number of system calls since boot</th>\n",
       "      <th>number of interrupts since boot</th>\n",
       "      <th>cpu avg load over 1 min</th>\n",
       "      <th>...</th>\n",
       "      <th>number of bytes sent</th>\n",
       "      <th>number of bytes received</th>\n",
       "      <th>number of packets sent</th>\n",
       "      <th>number of packets recived</th>\n",
       "      <th>total number of errors while receiving</th>\n",
       "      <th>total number of errors while sending</th>\n",
       "      <th>total number of incoming packets which were dropped</th>\n",
       "      <th>total number of outgoing packets which were dropped</th>\n",
       "      <th>boot_time</th>\n",
       "      <th>user_name</th>\n",
       "    </tr>\n",
       "  </thead>\n",
       "  <tbody>\n",
       "    <tr>\n",
       "      <th>0</th>\n",
       "      <td>2019-05-14 20:00:51</td>\n",
       "      <td>4</td>\n",
       "      <td>3733.17</td>\n",
       "      <td>120971.88</td>\n",
       "      <td>31.8</td>\n",
       "      <td>4</td>\n",
       "      <td>20838767</td>\n",
       "      <td>0</td>\n",
       "      <td>200273168</td>\n",
       "      <td>0.14</td>\n",
       "      <td>...</td>\n",
       "      <td>90269129</td>\n",
       "      <td>140071937</td>\n",
       "      <td>239706</td>\n",
       "      <td>432121</td>\n",
       "      <td>0</td>\n",
       "      <td>1</td>\n",
       "      <td>3</td>\n",
       "      <td>0</td>\n",
       "      <td>8:53:33.433245</td>\n",
       "      <td>admin293</td>\n",
       "    </tr>\n",
       "  </tbody>\n",
       "</table>\n",
       "<p>1 rows × 41 columns</p>\n",
       "</div>"
      ],
      "text/plain": [
       "              DateTime  Cpu Count  Cpu Working Time  Cpu idle Time  \\\n",
       "0  2019-05-14 20:00:51          4           3733.17      120971.88   \n",
       "\n",
       "   cpu_percent  Usage Cpu Count   number of software interrupts since boot  \\\n",
       "0         31.8                 4                                  20838767   \n",
       "\n",
       "   number of system calls since boot  number of interrupts since boot  \\\n",
       "0                                  0                        200273168   \n",
       "\n",
       "   cpu avg load over 1 min  ...  number of bytes sent  \\\n",
       "0                     0.14  ...              90269129   \n",
       "\n",
       "   number of bytes received  number of packets sent  \\\n",
       "0                 140071937                  239706   \n",
       "\n",
       "   number of packets recived  total number of errors while receiving  \\\n",
       "0                     432121                                       0   \n",
       "\n",
       "   total number of errors while sending  \\\n",
       "0                                     1   \n",
       "\n",
       "   total number of incoming packets which were dropped  \\\n",
       "0                                                  3     \n",
       "\n",
       "   total number of outgoing packets which were dropped       boot_time  \\\n",
       "0                                                  0    8:53:33.433245   \n",
       "\n",
       "   user_name  \n",
       "0   admin293  \n",
       "\n",
       "[1 rows x 41 columns]"
      ]
     },
     "execution_count": 13,
     "metadata": {},
     "output_type": "execute_result"
    }
   ],
   "source": [
    "data = pd.read_csv('CpuLogData.csv')\n",
    "data.head(1)"
   ]
  },
  {
   "cell_type": "code",
   "execution_count": 14,
   "metadata": {},
   "outputs": [],
   "source": [
    "data['Dates'] = pd.to_datetime(data['DateTime']).dt.date\n",
    "data['Time'] = pd.to_datetime(data['DateTime']).dt.time"
   ]
  },
  {
   "cell_type": "markdown",
   "metadata": {},
   "source": [
    "- User Name --> Usename is not related, because user name won't decide the performance."
   ]
  },
  {
   "cell_type": "code",
   "execution_count": 15,
   "metadata": {},
   "outputs": [],
   "source": [
    "data.drop(columns=['DateTime', 'user_name', 'Time', 'Dates'], inplace=True)"
   ]
  },
  {
   "cell_type": "code",
   "execution_count": 16,
   "metadata": {},
   "outputs": [
    {
     "data": {
      "text/plain": [
       "39"
      ]
     },
     "execution_count": 16,
     "metadata": {},
     "output_type": "execute_result"
    }
   ],
   "source": [
    "len(data.columns)"
   ]
  },
  {
   "cell_type": "code",
   "execution_count": 17,
   "metadata": {},
   "outputs": [
    {
     "data": {
      "text/plain": [
       "Cpu Count                                                int64\n",
       "Cpu Working Time                                       float64\n",
       "Cpu idle Time                                          float64\n",
       "cpu_percent                                            float64\n",
       "Usage Cpu Count                                          int64\n",
       "number of software interrupts since boot                 int64\n",
       "number of system calls since boot                        int64\n",
       "number of interrupts since boot                          int64\n",
       "cpu avg load over 1 min                                float64\n",
       "cpu avg load over 5 min                                float64\n",
       "cpu avg load over 15 min                               float64\n",
       "system_total_memory                                      int64\n",
       "system_used_memory                                       int64\n",
       "system_free_memory                                       int64\n",
       "system_active_memory                                     int64\n",
       "system_inactive_memory                                   int64\n",
       "system_buffers_memory                                    int64\n",
       "system_cached_memory                                     int64\n",
       "system_shared_memory                                     int64\n",
       "system_avalible_memory                                   int64\n",
       "disk_total_memory                                        int64\n",
       "disk_used_memory                                         int64\n",
       "disk_free_memory                                         int64\n",
       "disk_read_count                                          int64\n",
       "disk_write_count                                         int64\n",
       "disk_read_bytes                                          int64\n",
       "disk_write_bytes                                         int64\n",
       "time spent reading from disk                             int64\n",
       "time spent writing to disk                               int64\n",
       "time spent doing actual I/Os                             int64\n",
       "number of bytes sent                                     int64\n",
       "number of bytes received                                 int64\n",
       "number of packets sent                                   int64\n",
       "number of packets recived                                int64\n",
       "total number of errors while receiving                   int64\n",
       "total number of errors while sending                     int64\n",
       "total number of incoming packets which were dropped      int64\n",
       "total number of outgoing packets which were dropped      int64\n",
       "boot_time                                               object\n",
       "dtype: object"
      ]
     },
     "execution_count": 17,
     "metadata": {},
     "output_type": "execute_result"
    }
   ],
   "source": [
    "data.dtypes"
   ]
  },
  {
   "cell_type": "code",
   "execution_count": 18,
   "metadata": {},
   "outputs": [],
   "source": [
    "val_list = []\n",
    "for i in data['boot_time']:\n",
    "    value = str(i).split(',')\n",
    "    if len(value) > 1:        \n",
    "        value = value[1].split(':')\n",
    "        value = float(value[0] + '.' + value[1])\n",
    "        val_list.append(value)\n",
    "    else:\n",
    "        value = value[0].split(':')\n",
    "        value = float(value[0] + '.' + value[1])\n",
    "        val_list.append(value)\n"
   ]
  },
  {
   "cell_type": "code",
   "execution_count": 19,
   "metadata": {},
   "outputs": [],
   "source": [
    "data['Boot_Time'] = val_list"
   ]
  },
  {
   "cell_type": "code",
   "execution_count": 20,
   "metadata": {},
   "outputs": [],
   "source": [
    "data.drop(columns='boot_time', inplace=True)"
   ]
  },
  {
   "cell_type": "code",
   "execution_count": 21,
   "metadata": {},
   "outputs": [],
   "source": [
    "# data['Boot_Time']"
   ]
  },
  {
   "cell_type": "code",
   "execution_count": 22,
   "metadata": {},
   "outputs": [
    {
     "data": {
      "text/plain": [
       "Index(['Cpu Count', 'Cpu Working Time', 'Cpu idle Time', 'cpu_percent',\n",
       "       'Usage Cpu Count ', 'number of software interrupts since boot',\n",
       "       'number of system calls since boot', 'number of interrupts since boot',\n",
       "       'cpu avg load over 1 min', 'cpu avg load over 5 min',\n",
       "       'cpu avg load over 15 min', 'system_total_memory', 'system_used_memory',\n",
       "       'system_free_memory', 'system_active_memory', 'system_inactive_memory',\n",
       "       'system_buffers_memory', 'system_cached_memory', 'system_shared_memory',\n",
       "       'system_avalible_memory', 'disk_total_memory', 'disk_used_memory',\n",
       "       'disk_free_memory', 'disk_read_count', 'disk_write_count',\n",
       "       'disk_read_bytes', 'disk_write_bytes', 'time spent reading from disk',\n",
       "       'time spent writing to disk', 'time spent doing actual I/Os',\n",
       "       'number of bytes sent', 'number of bytes received',\n",
       "       'number of packets sent', 'number of packets recived',\n",
       "       'total number of errors while receiving',\n",
       "       'total number of errors while sending',\n",
       "       'total number of incoming packets which were dropped',\n",
       "       'total number of outgoing packets which were dropped', 'Boot_Time'],\n",
       "      dtype='object')"
      ]
     },
     "execution_count": 22,
     "metadata": {},
     "output_type": "execute_result"
    }
   ],
   "source": [
    "data.columns"
   ]
  },
  {
   "cell_type": "code",
   "execution_count": 23,
   "metadata": {},
   "outputs": [
    {
     "data": {
      "text/plain": [
       "Cpu Count                                                int64\n",
       "Cpu Working Time                                       float64\n",
       "Cpu idle Time                                          float64\n",
       "cpu_percent                                            float64\n",
       "Usage Cpu Count                                          int64\n",
       "number of software interrupts since boot                 int64\n",
       "number of system calls since boot                        int64\n",
       "number of interrupts since boot                          int64\n",
       "cpu avg load over 1 min                                float64\n",
       "cpu avg load over 5 min                                float64\n",
       "cpu avg load over 15 min                               float64\n",
       "system_total_memory                                      int64\n",
       "system_used_memory                                       int64\n",
       "system_free_memory                                       int64\n",
       "system_active_memory                                     int64\n",
       "system_inactive_memory                                   int64\n",
       "system_buffers_memory                                    int64\n",
       "system_cached_memory                                     int64\n",
       "system_shared_memory                                     int64\n",
       "system_avalible_memory                                   int64\n",
       "disk_total_memory                                        int64\n",
       "disk_used_memory                                         int64\n",
       "disk_free_memory                                         int64\n",
       "disk_read_count                                          int64\n",
       "disk_write_count                                         int64\n",
       "disk_read_bytes                                          int64\n",
       "disk_write_bytes                                         int64\n",
       "time spent reading from disk                             int64\n",
       "time spent writing to disk                               int64\n",
       "time spent doing actual I/Os                             int64\n",
       "number of bytes sent                                     int64\n",
       "number of bytes received                                 int64\n",
       "number of packets sent                                   int64\n",
       "number of packets recived                                int64\n",
       "total number of errors while receiving                   int64\n",
       "total number of errors while sending                     int64\n",
       "total number of incoming packets which were dropped      int64\n",
       "total number of outgoing packets which were dropped      int64\n",
       "Boot_Time                                              float64\n",
       "dtype: object"
      ]
     },
     "execution_count": 23,
     "metadata": {},
     "output_type": "execute_result"
    }
   ],
   "source": [
    "data.dtypes"
   ]
  },
  {
   "cell_type": "code",
   "execution_count": 39,
   "metadata": {},
   "outputs": [],
   "source": [
    "data.to_csv('Pre_Pro_v_0.csv')"
   ]
  },
  {
   "cell_type": "markdown",
   "metadata": {},
   "source": [
    "## K Means"
   ]
  },
  {
   "cell_type": "code",
   "execution_count": 93,
   "metadata": {},
   "outputs": [],
   "source": [
    "from sklearn.cluster import KMeans\n",
    "import numpy as np\n",
    "kmeans = KMeans(n_clusters=2, random_state=0).fit(data)\n",
    "kmeans_labels = kmeans.labels_"
   ]
  },
  {
   "cell_type": "code",
   "execution_count": 25,
   "metadata": {},
   "outputs": [
    {
     "name": "stdout",
     "output_type": "stream",
     "text": [
      "105\n"
     ]
    }
   ],
   "source": [
    "print ((pd.DataFrame(kmeans_labels) != 0).values.sum())"
   ]
  },
  {
   "cell_type": "code",
   "execution_count": 94,
   "metadata": {},
   "outputs": [],
   "source": [
    "data['Label'] = kmeans_labels"
   ]
  },
  {
   "cell_type": "code",
   "execution_count": 48,
   "metadata": {},
   "outputs": [
    {
     "data": {
      "text/plain": [
       "array([0, 1])"
      ]
     },
     "execution_count": 48,
     "metadata": {},
     "output_type": "execute_result"
    }
   ],
   "source": [
    "pd.Series(kmeans_labels).unique()"
   ]
  },
  {
   "cell_type": "code",
   "execution_count": 95,
   "metadata": {},
   "outputs": [
    {
     "data": {
      "text/html": [
       "<div>\n",
       "<style scoped>\n",
       "    .dataframe tbody tr th:only-of-type {\n",
       "        vertical-align: middle;\n",
       "    }\n",
       "\n",
       "    .dataframe tbody tr th {\n",
       "        vertical-align: top;\n",
       "    }\n",
       "\n",
       "    .dataframe thead th {\n",
       "        text-align: right;\n",
       "    }\n",
       "</style>\n",
       "<table border=\"1\" class=\"dataframe\">\n",
       "  <thead>\n",
       "    <tr style=\"text-align: right;\">\n",
       "      <th></th>\n",
       "      <th>Cpu Count</th>\n",
       "      <th>Cpu Working Time</th>\n",
       "      <th>Cpu idle Time</th>\n",
       "      <th>cpu_percent</th>\n",
       "      <th>Usage Cpu Count</th>\n",
       "      <th>number of software interrupts since boot</th>\n",
       "      <th>number of system calls since boot</th>\n",
       "      <th>number of interrupts since boot</th>\n",
       "      <th>cpu avg load over 1 min</th>\n",
       "      <th>cpu avg load over 5 min</th>\n",
       "      <th>...</th>\n",
       "      <th>number of bytes received</th>\n",
       "      <th>number of packets sent</th>\n",
       "      <th>number of packets recived</th>\n",
       "      <th>total number of errors while receiving</th>\n",
       "      <th>total number of errors while sending</th>\n",
       "      <th>total number of incoming packets which were dropped</th>\n",
       "      <th>total number of outgoing packets which were dropped</th>\n",
       "      <th>Boot_Time</th>\n",
       "      <th>kmeans</th>\n",
       "      <th>Label</th>\n",
       "    </tr>\n",
       "  </thead>\n",
       "  <tbody>\n",
       "    <tr>\n",
       "      <th>0</th>\n",
       "      <td>4</td>\n",
       "      <td>3733.17</td>\n",
       "      <td>120971.88</td>\n",
       "      <td>31.8</td>\n",
       "      <td>4</td>\n",
       "      <td>20838767</td>\n",
       "      <td>0</td>\n",
       "      <td>200273168</td>\n",
       "      <td>0.14</td>\n",
       "      <td>0.33</td>\n",
       "      <td>...</td>\n",
       "      <td>140071937</td>\n",
       "      <td>239706</td>\n",
       "      <td>432121</td>\n",
       "      <td>0</td>\n",
       "      <td>1</td>\n",
       "      <td>3</td>\n",
       "      <td>0</td>\n",
       "      <td>8.53</td>\n",
       "      <td>0</td>\n",
       "      <td>0</td>\n",
       "    </tr>\n",
       "  </tbody>\n",
       "</table>\n",
       "<p>1 rows × 41 columns</p>\n",
       "</div>"
      ],
      "text/plain": [
       "   Cpu Count  Cpu Working Time  Cpu idle Time  cpu_percent  Usage Cpu Count   \\\n",
       "0          4           3733.17      120971.88         31.8                 4   \n",
       "\n",
       "   number of software interrupts since boot  \\\n",
       "0                                  20838767   \n",
       "\n",
       "   number of system calls since boot  number of interrupts since boot  \\\n",
       "0                                  0                        200273168   \n",
       "\n",
       "   cpu avg load over 1 min  cpu avg load over 5 min  ...  \\\n",
       "0                     0.14                     0.33  ...   \n",
       "\n",
       "   number of bytes received  number of packets sent  \\\n",
       "0                 140071937                  239706   \n",
       "\n",
       "   number of packets recived  total number of errors while receiving  \\\n",
       "0                     432121                                       0   \n",
       "\n",
       "   total number of errors while sending  \\\n",
       "0                                     1   \n",
       "\n",
       "   total number of incoming packets which were dropped  \\\n",
       "0                                                  3     \n",
       "\n",
       "   total number of outgoing packets which were dropped  Boot_Time  kmeans  \\\n",
       "0                                                  0         8.53       0   \n",
       "\n",
       "   Label  \n",
       "0      0  \n",
       "\n",
       "[1 rows x 41 columns]"
      ]
     },
     "execution_count": 95,
     "metadata": {},
     "output_type": "execute_result"
    }
   ],
   "source": [
    "data.head(1)"
   ]
  },
  {
   "cell_type": "code",
   "execution_count": 116,
   "metadata": {},
   "outputs": [
    {
     "data": {
      "text/plain": [
       "<matplotlib.axes._subplots.AxesSubplot at 0x7f1515ead0f0>"
      ]
     },
     "execution_count": 116,
     "metadata": {},
     "output_type": "execute_result"
    },
    {
     "data": {
      "image/png": "[encoded data removed]",
      "text/plain": [
       "<Figure size 432x288 with 1 Axes>"
      ]
     },
     "metadata": {
      "needs_background": "light"
     },
     "output_type": "display_data"
    }
   ],
   "source": [
    "# Applying Kernel PCA\n",
    "from sklearn.decomposition import KernelPCA\n",
    "kpca = KernelPCA(n_components = 2, kernel = 'rbf')\n",
    "X = kpca.fit_transform(data)\n",
    "\n",
    "sb.scatterplot(x=X[: ,0]\n",
    "               ,y=X[:, 1]\n",
    "               ,hue='Label'\n",
    "               ,data=data)"
   ]
  },
  {
   "cell_type": "code",
   "execution_count": 115,
   "metadata": {},
   "outputs": [],
   "source": [
    "# import random\n",
    "# fig = plt.figure()\n",
    "# ax = fig.add_subplot(1, 1, 1)\n",
    "# for column in data.columns:\n",
    "#     x = data[column]\n",
    "#     y = kmeans_labels\n",
    "#     ax.scatter(x, y, alpha=0.8)\n",
    "# plt.show()"
   ]
  },
  {
   "cell_type": "markdown",
   "metadata": {},
   "source": [
    "## Hierarchical "
   ]
  },
  {
   "cell_type": "code",
   "execution_count": 119,
   "metadata": {},
   "outputs": [
    {
     "data": {
      "text/plain": [
       "<matplotlib.axes._subplots.AxesSubplot at 0x7f151531e198>"
      ]
     },
     "execution_count": 119,
     "metadata": {},
     "output_type": "execute_result"
    },
    {
     "data": {
      "image/png": "[encoded data removed]",
      "text/plain": [
       "<Figure size 432x288 with 1 Axes>"
      ]
     },
     "metadata": {
      "needs_background": "light"
     },
     "output_type": "display_data"
    }
   ],
   "source": [
    "from sklearn.cluster import AgglomerativeClustering\n",
    "hc = AgglomerativeClustering(n_clusters = 2, affinity = 'euclidean', linkage = 'ward')\n",
    "y_hc = hc.fit_predict(data)\n",
    "\n",
    "data[\"y_hc\"] = y_hc\n",
    "from sklearn.decomposition import KernelPCA\n",
    "kpca = KernelPCA(n_components = 2, kernel = 'rbf')\n",
    "X = kpca.fit_transform(data)\n",
    "\n",
    "sb.scatterplot(x=X[: ,0]\n",
    "               ,y=X[:, 1]\n",
    "               ,hue='y_hc'\n",
    "               ,data=data)"
   ]
  },
  {
   "cell_type": "code",
   "execution_count": 131,
   "metadata": {},
   "outputs": [],
   "source": [
    "# cor = data.corr() #Calculate the correlation of the above variables\n",
    "# sb.heatmap(cor, square = True) #Plot the correlation as heat map"
   ]
  },
  {
   "cell_type": "code",
   "execution_count": 123,
   "metadata": {},
   "outputs": [],
   "source": [
    "zero = [i for i in range(len(data)) if data[\"Label\"][i]== 0]"
   ]
  },
  {
   "cell_type": "code",
   "execution_count": 130,
   "metadata": {},
   "outputs": [
    {
     "data": {
      "text/html": [
       "<div>\n",
       "<style scoped>\n",
       "    .dataframe tbody tr th:only-of-type {\n",
       "        vertical-align: middle;\n",
       "    }\n",
       "\n",
       "    .dataframe tbody tr th {\n",
       "        vertical-align: top;\n",
       "    }\n",
       "\n",
       "    .dataframe thead th {\n",
       "        text-align: right;\n",
       "    }\n",
       "</style>\n",
       "<table border=\"1\" class=\"dataframe\">\n",
       "  <thead>\n",
       "    <tr style=\"text-align: right;\">\n",
       "      <th></th>\n",
       "      <th>Cpu Count</th>\n",
       "      <th>Cpu Working Time</th>\n",
       "      <th>Cpu idle Time</th>\n",
       "      <th>cpu_percent</th>\n",
       "      <th>Usage Cpu Count</th>\n",
       "      <th>number of software interrupts since boot</th>\n",
       "      <th>number of system calls since boot</th>\n",
       "      <th>number of interrupts since boot</th>\n",
       "      <th>cpu avg load over 1 min</th>\n",
       "      <th>cpu avg load over 5 min</th>\n",
       "      <th>...</th>\n",
       "      <th>number of packets recived</th>\n",
       "      <th>total number of errors while receiving</th>\n",
       "      <th>total number of errors while sending</th>\n",
       "      <th>total number of incoming packets which were dropped</th>\n",
       "      <th>total number of outgoing packets which were dropped</th>\n",
       "      <th>Boot_Time</th>\n",
       "      <th>kmeans</th>\n",
       "      <th>Label</th>\n",
       "      <th>MeanShift_labels</th>\n",
       "      <th>y_hc</th>\n",
       "    </tr>\n",
       "  </thead>\n",
       "  <tbody>\n",
       "    <tr>\n",
       "      <th>0</th>\n",
       "      <td>4</td>\n",
       "      <td>3733.17</td>\n",
       "      <td>120971.88</td>\n",
       "      <td>31.8</td>\n",
       "      <td>4</td>\n",
       "      <td>20838767</td>\n",
       "      <td>0</td>\n",
       "      <td>200273168</td>\n",
       "      <td>0.14</td>\n",
       "      <td>0.33</td>\n",
       "      <td>...</td>\n",
       "      <td>432121</td>\n",
       "      <td>0</td>\n",
       "      <td>1</td>\n",
       "      <td>3</td>\n",
       "      <td>0</td>\n",
       "      <td>8.53</td>\n",
       "      <td>0</td>\n",
       "      <td>0</td>\n",
       "      <td>106</td>\n",
       "      <td>0</td>\n",
       "    </tr>\n",
       "    <tr>\n",
       "      <th>1</th>\n",
       "      <td>4</td>\n",
       "      <td>3767.15</td>\n",
       "      <td>121920.71</td>\n",
       "      <td>33.3</td>\n",
       "      <td>4</td>\n",
       "      <td>21030713</td>\n",
       "      <td>0</td>\n",
       "      <td>202313416</td>\n",
       "      <td>0.80</td>\n",
       "      <td>0.39</td>\n",
       "      <td>...</td>\n",
       "      <td>433093</td>\n",
       "      <td>0</td>\n",
       "      <td>1</td>\n",
       "      <td>3</td>\n",
       "      <td>0</td>\n",
       "      <td>8.57</td>\n",
       "      <td>0</td>\n",
       "      <td>0</td>\n",
       "      <td>102</td>\n",
       "      <td>0</td>\n",
       "    </tr>\n",
       "    <tr>\n",
       "      <th>2</th>\n",
       "      <td>4</td>\n",
       "      <td>3769.52</td>\n",
       "      <td>121938.45</td>\n",
       "      <td>23.8</td>\n",
       "      <td>4</td>\n",
       "      <td>21038802</td>\n",
       "      <td>0</td>\n",
       "      <td>202404974</td>\n",
       "      <td>0.73</td>\n",
       "      <td>0.39</td>\n",
       "      <td>...</td>\n",
       "      <td>433117</td>\n",
       "      <td>0</td>\n",
       "      <td>1</td>\n",
       "      <td>3</td>\n",
       "      <td>0</td>\n",
       "      <td>8.57</td>\n",
       "      <td>0</td>\n",
       "      <td>0</td>\n",
       "      <td>101</td>\n",
       "      <td>0</td>\n",
       "    </tr>\n",
       "    <tr>\n",
       "      <th>3</th>\n",
       "      <td>4</td>\n",
       "      <td>3773.42</td>\n",
       "      <td>121984.77</td>\n",
       "      <td>25.0</td>\n",
       "      <td>4</td>\n",
       "      <td>21054241</td>\n",
       "      <td>0</td>\n",
       "      <td>202500215</td>\n",
       "      <td>0.69</td>\n",
       "      <td>0.39</td>\n",
       "      <td>...</td>\n",
       "      <td>433158</td>\n",
       "      <td>0</td>\n",
       "      <td>1</td>\n",
       "      <td>3</td>\n",
       "      <td>0</td>\n",
       "      <td>8.58</td>\n",
       "      <td>0</td>\n",
       "      <td>0</td>\n",
       "      <td>100</td>\n",
       "      <td>0</td>\n",
       "    </tr>\n",
       "    <tr>\n",
       "      <th>4</th>\n",
       "      <td>4</td>\n",
       "      <td>3778.91</td>\n",
       "      <td>122102.01</td>\n",
       "      <td>25.0</td>\n",
       "      <td>4</td>\n",
       "      <td>21078850</td>\n",
       "      <td>0</td>\n",
       "      <td>202692540</td>\n",
       "      <td>0.47</td>\n",
       "      <td>0.37</td>\n",
       "      <td>...</td>\n",
       "      <td>433242</td>\n",
       "      <td>0</td>\n",
       "      <td>1</td>\n",
       "      <td>3</td>\n",
       "      <td>0</td>\n",
       "      <td>8.58</td>\n",
       "      <td>0</td>\n",
       "      <td>0</td>\n",
       "      <td>99</td>\n",
       "      <td>0</td>\n",
       "    </tr>\n",
       "    <tr>\n",
       "      <th>5</th>\n",
       "      <td>4</td>\n",
       "      <td>3790.60</td>\n",
       "      <td>122355.45</td>\n",
       "      <td>16.0</td>\n",
       "      <td>4</td>\n",
       "      <td>21142313</td>\n",
       "      <td>0</td>\n",
       "      <td>203447060</td>\n",
       "      <td>0.45</td>\n",
       "      <td>0.38</td>\n",
       "      <td>...</td>\n",
       "      <td>433431</td>\n",
       "      <td>0</td>\n",
       "      <td>1</td>\n",
       "      <td>3</td>\n",
       "      <td>0</td>\n",
       "      <td>8.59</td>\n",
       "      <td>0</td>\n",
       "      <td>0</td>\n",
       "      <td>98</td>\n",
       "      <td>0</td>\n",
       "    </tr>\n",
       "    <tr>\n",
       "      <th>6</th>\n",
       "      <td>4</td>\n",
       "      <td>3796.35</td>\n",
       "      <td>122583.72</td>\n",
       "      <td>33.3</td>\n",
       "      <td>4</td>\n",
       "      <td>21184738</td>\n",
       "      <td>0</td>\n",
       "      <td>203912994</td>\n",
       "      <td>0.42</td>\n",
       "      <td>0.40</td>\n",
       "      <td>...</td>\n",
       "      <td>433607</td>\n",
       "      <td>0</td>\n",
       "      <td>1</td>\n",
       "      <td>3</td>\n",
       "      <td>0</td>\n",
       "      <td>9.00</td>\n",
       "      <td>0</td>\n",
       "      <td>0</td>\n",
       "      <td>97</td>\n",
       "      <td>0</td>\n",
       "    </tr>\n",
       "    <tr>\n",
       "      <th>7</th>\n",
       "      <td>4</td>\n",
       "      <td>3811.23</td>\n",
       "      <td>122798.05</td>\n",
       "      <td>46.9</td>\n",
       "      <td>4</td>\n",
       "      <td>21250414</td>\n",
       "      <td>0</td>\n",
       "      <td>204963858</td>\n",
       "      <td>0.50</td>\n",
       "      <td>0.42</td>\n",
       "      <td>...</td>\n",
       "      <td>433800</td>\n",
       "      <td>0</td>\n",
       "      <td>1</td>\n",
       "      <td>3</td>\n",
       "      <td>0</td>\n",
       "      <td>9.01</td>\n",
       "      <td>0</td>\n",
       "      <td>0</td>\n",
       "      <td>96</td>\n",
       "      <td>0</td>\n",
       "    </tr>\n",
       "    <tr>\n",
       "      <th>8</th>\n",
       "      <td>4</td>\n",
       "      <td>3833.33</td>\n",
       "      <td>122999.10</td>\n",
       "      <td>60.6</td>\n",
       "      <td>4</td>\n",
       "      <td>21327446</td>\n",
       "      <td>0</td>\n",
       "      <td>206211025</td>\n",
       "      <td>0.35</td>\n",
       "      <td>0.39</td>\n",
       "      <td>...</td>\n",
       "      <td>434095</td>\n",
       "      <td>0</td>\n",
       "      <td>1</td>\n",
       "      <td>3</td>\n",
       "      <td>0</td>\n",
       "      <td>9.02</td>\n",
       "      <td>0</td>\n",
       "      <td>0</td>\n",
       "      <td>95</td>\n",
       "      <td>0</td>\n",
       "    </tr>\n",
       "    <tr>\n",
       "      <th>9</th>\n",
       "      <td>4</td>\n",
       "      <td>87.23</td>\n",
       "      <td>2664.98</td>\n",
       "      <td>25.0</td>\n",
       "      <td>4</td>\n",
       "      <td>473172</td>\n",
       "      <td>0</td>\n",
       "      <td>414381</td>\n",
       "      <td>0.75</td>\n",
       "      <td>0.61</td>\n",
       "      <td>...</td>\n",
       "      <td>31615</td>\n",
       "      <td>0</td>\n",
       "      <td>0</td>\n",
       "      <td>0</td>\n",
       "      <td>0</td>\n",
       "      <td>0.13</td>\n",
       "      <td>1</td>\n",
       "      <td>1</td>\n",
       "      <td>2195</td>\n",
       "      <td>1</td>\n",
       "    </tr>\n",
       "  </tbody>\n",
       "</table>\n",
       "<p>10 rows × 43 columns</p>\n",
       "</div>"
      ],
      "text/plain": [
       "   Cpu Count  Cpu Working Time  Cpu idle Time  cpu_percent  Usage Cpu Count   \\\n",
       "0          4           3733.17      120971.88         31.8                 4   \n",
       "1          4           3767.15      121920.71         33.3                 4   \n",
       "2          4           3769.52      121938.45         23.8                 4   \n",
       "3          4           3773.42      121984.77         25.0                 4   \n",
       "4          4           3778.91      122102.01         25.0                 4   \n",
       "5          4           3790.60      122355.45         16.0                 4   \n",
       "6          4           3796.35      122583.72         33.3                 4   \n",
       "7          4           3811.23      122798.05         46.9                 4   \n",
       "8          4           3833.33      122999.10         60.6                 4   \n",
       "9          4             87.23        2664.98         25.0                 4   \n",
       "\n",
       "   number of software interrupts since boot  \\\n",
       "0                                  20838767   \n",
       "1                                  21030713   \n",
       "2                                  21038802   \n",
       "3                                  21054241   \n",
       "4                                  21078850   \n",
       "5                                  21142313   \n",
       "6                                  21184738   \n",
       "7                                  21250414   \n",
       "8                                  21327446   \n",
       "9                                    473172   \n",
       "\n",
       "   number of system calls since boot  number of interrupts since boot  \\\n",
       "0                                  0                        200273168   \n",
       "1                                  0                        202313416   \n",
       "2                                  0                        202404974   \n",
       "3                                  0                        202500215   \n",
       "4                                  0                        202692540   \n",
       "5                                  0                        203447060   \n",
       "6                                  0                        203912994   \n",
       "7                                  0                        204963858   \n",
       "8                                  0                        206211025   \n",
       "9                                  0                           414381   \n",
       "\n",
       "   cpu avg load over 1 min  cpu avg load over 5 min  ...  \\\n",
       "0                     0.14                     0.33  ...   \n",
       "1                     0.80                     0.39  ...   \n",
       "2                     0.73                     0.39  ...   \n",
       "3                     0.69                     0.39  ...   \n",
       "4                     0.47                     0.37  ...   \n",
       "5                     0.45                     0.38  ...   \n",
       "6                     0.42                     0.40  ...   \n",
       "7                     0.50                     0.42  ...   \n",
       "8                     0.35                     0.39  ...   \n",
       "9                     0.75                     0.61  ...   \n",
       "\n",
       "   number of packets recived  total number of errors while receiving  \\\n",
       "0                     432121                                       0   \n",
       "1                     433093                                       0   \n",
       "2                     433117                                       0   \n",
       "3                     433158                                       0   \n",
       "4                     433242                                       0   \n",
       "5                     433431                                       0   \n",
       "6                     433607                                       0   \n",
       "7                     433800                                       0   \n",
       "8                     434095                                       0   \n",
       "9                      31615                                       0   \n",
       "\n",
       "   total number of errors while sending  \\\n",
       "0                                     1   \n",
       "1                                     1   \n",
       "2                                     1   \n",
       "3                                     1   \n",
       "4                                     1   \n",
       "5                                     1   \n",
       "6                                     1   \n",
       "7                                     1   \n",
       "8                                     1   \n",
       "9                                     0   \n",
       "\n",
       "   total number of incoming packets which were dropped  \\\n",
       "0                                                  3     \n",
       "1                                                  3     \n",
       "2                                                  3     \n",
       "3                                                  3     \n",
       "4                                                  3     \n",
       "5                                                  3     \n",
       "6                                                  3     \n",
       "7                                                  3     \n",
       "8                                                  3     \n",
       "9                                                  0     \n",
       "\n",
       "   total number of outgoing packets which were dropped  Boot_Time  kmeans  \\\n",
       "0                                                  0         8.53       0   \n",
       "1                                                  0         8.57       0   \n",
       "2                                                  0         8.57       0   \n",
       "3                                                  0         8.58       0   \n",
       "4                                                  0         8.58       0   \n",
       "5                                                  0         8.59       0   \n",
       "6                                                  0         9.00       0   \n",
       "7                                                  0         9.01       0   \n",
       "8                                                  0         9.02       0   \n",
       "9                                                  0         0.13       1   \n",
       "\n",
       "   Label  MeanShift_labels  y_hc  \n",
       "0      0               106     0  \n",
       "1      0               102     0  \n",
       "2      0               101     0  \n",
       "3      0               100     0  \n",
       "4      0                99     0  \n",
       "5      0                98     0  \n",
       "6      0                97     0  \n",
       "7      0                96     0  \n",
       "8      0                95     0  \n",
       "9      1              2195     1  \n",
       "\n",
       "[10 rows x 43 columns]"
      ]
     },
     "execution_count": 130,
     "metadata": {},
     "output_type": "execute_result"
    }
   ],
   "source": [
    "data.head(10)"
   ]
  },
  {
   "cell_type": "markdown",
   "metadata": {},
   "source": [
    "- Performance in all the features is low for 9th and 10th, so we can say that \n",
    "- 1 --> Inactive\n",
    "- 0 --> Active"
   ]
  },
  {
   "cell_type": "code",
   "execution_count": null,
   "metadata": {},
   "outputs": [],
   "source": []
  }
 ],
 "metadata": {
  "kernelspec": {
   "display_name": "Python 3",
   "language": "python",
   "name": "python3"
  },
  "language_info": {
   "codemirror_mode": {
    "name": "ipython",
    "version": 3
   },
   "file_extension": ".py",
   "mimetype": "text/x-python",
   "name": "python",
   "nbconvert_exporter": "python",
   "pygments_lexer": "ipython3",
   "version": "3.6.8"
  }
 },
 "nbformat": 4,
 "nbformat_minor": 2
}
