{
 "cells": [
  {
   "cell_type": "code",
   "execution_count": 1,
   "metadata": {},
   "outputs": [],
   "source": [
    "import pandas as pd\n",
    "import numpy as np\n",
    "import seaborn as sb\n",
    "import matplotlib.pyplot as plt\n",
    "from sklearn.preprocessing import StandardScaler\n",
    "from sklearn.model_selection import train_test_split\n",
    "from sklearn.cluster import KMeans\n",
    "import seaborn as sns; sns.set(style='white')\n",
    "%matplotlib inline\n",
    "%config InlineBackend.figure_format = 'retina'\n",
    "from sklearn import decomposition\n",
    "from sklearn import datasets\n",
    "from mpl_toolkits.mplot3d import Axes3D\n",
    "from sklearn.utils import shuffle\n",
    "import warnings\n",
    "warnings.filterwarnings('ignore')\n",
    "import random"
   ]
  },
  {
   "cell_type": "code",
   "execution_count": 2,
   "metadata": {},
   "outputs": [
    {
     "data": {
      "text/html": [
       "<div>\n",
       "<style scoped>\n",
       "    .dataframe tbody tr th:only-of-type {\n",
       "        vertical-align: middle;\n",
       "    }\n",
       "\n",
       "    .dataframe tbody tr th {\n",
       "        vertical-align: top;\n",
       "    }\n",
       "\n",
       "    .dataframe thead th {\n",
       "        text-align: right;\n",
       "    }\n",
       "</style>\n",
       "<table border=\"1\" class=\"dataframe\">\n",
       "  <thead>\n",
       "    <tr style=\"text-align: right;\">\n",
       "      <th></th>\n",
       "      <th>Unnamed: 0</th>\n",
       "      <th>Cpu Count</th>\n",
       "      <th>Cpu Working Time</th>\n",
       "      <th>Cpu idle Time</th>\n",
       "      <th>cpu_percent</th>\n",
       "      <th>Usage Cpu Count</th>\n",
       "      <th>number of software interrupts since boot</th>\n",
       "      <th>number of system calls since boot</th>\n",
       "      <th>number of interrupts since boot</th>\n",
       "      <th>cpu avg load over 1 min</th>\n",
       "      <th>...</th>\n",
       "      <th>number of bytes received</th>\n",
       "      <th>number of packets sent</th>\n",
       "      <th>number of packets recived</th>\n",
       "      <th>total number of errors while receiving</th>\n",
       "      <th>total number of errors while sending</th>\n",
       "      <th>total number of incoming packets which were dropped</th>\n",
       "      <th>total number of outgoing packets which were dropped</th>\n",
       "      <th>Dates</th>\n",
       "      <th>Time</th>\n",
       "      <th>Boot_Time</th>\n",
       "    </tr>\n",
       "  </thead>\n",
       "  <tbody>\n",
       "    <tr>\n",
       "      <th>4221</th>\n",
       "      <td>4221</td>\n",
       "      <td>4</td>\n",
       "      <td>271.31</td>\n",
       "      <td>121769.55</td>\n",
       "      <td>29.0</td>\n",
       "      <td>4</td>\n",
       "      <td>3502143</td>\n",
       "      <td>0</td>\n",
       "      <td>28397577</td>\n",
       "      <td>0.00</td>\n",
       "      <td>...</td>\n",
       "      <td>65859929</td>\n",
       "      <td>41172</td>\n",
       "      <td>386740</td>\n",
       "      <td>0</td>\n",
       "      <td>0</td>\n",
       "      <td>2</td>\n",
       "      <td>0</td>\n",
       "      <td>2019-07-16</td>\n",
       "      <td>19:12:01</td>\n",
       "      <td>8.31</td>\n",
       "    </tr>\n",
       "    <tr>\n",
       "      <th>4222</th>\n",
       "      <td>4222</td>\n",
       "      <td>4</td>\n",
       "      <td>271.80</td>\n",
       "      <td>122008.94</td>\n",
       "      <td>23.3</td>\n",
       "      <td>4</td>\n",
       "      <td>3513859</td>\n",
       "      <td>0</td>\n",
       "      <td>28406052</td>\n",
       "      <td>0.00</td>\n",
       "      <td>...</td>\n",
       "      <td>65965912</td>\n",
       "      <td>41271</td>\n",
       "      <td>387453</td>\n",
       "      <td>0</td>\n",
       "      <td>0</td>\n",
       "      <td>2</td>\n",
       "      <td>0</td>\n",
       "      <td>2019-07-16</td>\n",
       "      <td>19:13:02</td>\n",
       "      <td>8.32</td>\n",
       "    </tr>\n",
       "    <tr>\n",
       "      <th>4223</th>\n",
       "      <td>4223</td>\n",
       "      <td>4</td>\n",
       "      <td>272.11</td>\n",
       "      <td>122244.62</td>\n",
       "      <td>25.8</td>\n",
       "      <td>4</td>\n",
       "      <td>3521274</td>\n",
       "      <td>0</td>\n",
       "      <td>28412149</td>\n",
       "      <td>0.00</td>\n",
       "      <td>...</td>\n",
       "      <td>66028574</td>\n",
       "      <td>41313</td>\n",
       "      <td>387914</td>\n",
       "      <td>0</td>\n",
       "      <td>0</td>\n",
       "      <td>2</td>\n",
       "      <td>0</td>\n",
       "      <td>2019-07-16</td>\n",
       "      <td>19:14:01</td>\n",
       "      <td>8.33</td>\n",
       "    </tr>\n",
       "    <tr>\n",
       "      <th>4224</th>\n",
       "      <td>4224</td>\n",
       "      <td>4</td>\n",
       "      <td>279.90</td>\n",
       "      <td>122468.27</td>\n",
       "      <td>28.1</td>\n",
       "      <td>4</td>\n",
       "      <td>3559645</td>\n",
       "      <td>0</td>\n",
       "      <td>29596034</td>\n",
       "      <td>0.13</td>\n",
       "      <td>...</td>\n",
       "      <td>66086888</td>\n",
       "      <td>41510</td>\n",
       "      <td>388364</td>\n",
       "      <td>0</td>\n",
       "      <td>0</td>\n",
       "      <td>2</td>\n",
       "      <td>0</td>\n",
       "      <td>2019-07-16</td>\n",
       "      <td>19:15:01</td>\n",
       "      <td>8.34</td>\n",
       "    </tr>\n",
       "  </tbody>\n",
       "</table>\n",
       "<p>4 rows × 42 columns</p>\n",
       "</div>"
      ],
      "text/plain": [
       "      Unnamed: 0  Cpu Count  Cpu Working Time  Cpu idle Time  cpu_percent  \\\n",
       "4221        4221          4            271.31      121769.55         29.0   \n",
       "4222        4222          4            271.80      122008.94         23.3   \n",
       "4223        4223          4            272.11      122244.62         25.8   \n",
       "4224        4224          4            279.90      122468.27         28.1   \n",
       "\n",
       "      Usage Cpu Count   number of software interrupts since boot  \\\n",
       "4221                 4                                   3502143   \n",
       "4222                 4                                   3513859   \n",
       "4223                 4                                   3521274   \n",
       "4224                 4                                   3559645   \n",
       "\n",
       "      number of system calls since boot  number of interrupts since boot  \\\n",
       "4221                                  0                         28397577   \n",
       "4222                                  0                         28406052   \n",
       "4223                                  0                         28412149   \n",
       "4224                                  0                         29596034   \n",
       "\n",
       "      cpu avg load over 1 min  ...  number of bytes received  \\\n",
       "4221                     0.00  ...                  65859929   \n",
       "4222                     0.00  ...                  65965912   \n",
       "4223                     0.00  ...                  66028574   \n",
       "4224                     0.13  ...                  66086888   \n",
       "\n",
       "      number of packets sent  number of packets recived  \\\n",
       "4221                   41172                     386740   \n",
       "4222                   41271                     387453   \n",
       "4223                   41313                     387914   \n",
       "4224                   41510                     388364   \n",
       "\n",
       "      total number of errors while receiving  \\\n",
       "4221                                       0   \n",
       "4222                                       0   \n",
       "4223                                       0   \n",
       "4224                                       0   \n",
       "\n",
       "      total number of errors while sending  \\\n",
       "4221                                     0   \n",
       "4222                                     0   \n",
       "4223                                     0   \n",
       "4224                                     0   \n",
       "\n",
       "      total number of incoming packets which were dropped  \\\n",
       "4221                                                  2     \n",
       "4222                                                  2     \n",
       "4223                                                  2     \n",
       "4224                                                  2     \n",
       "\n",
       "      total number of outgoing packets which were dropped       Dates  \\\n",
       "4221                                                  0    2019-07-16   \n",
       "4222                                                  0    2019-07-16   \n",
       "4223                                                  0    2019-07-16   \n",
       "4224                                                  0    2019-07-16   \n",
       "\n",
       "          Time  Boot_Time  \n",
       "4221  19:12:01       8.31  \n",
       "4222  19:13:02       8.32  \n",
       "4223  19:14:01       8.33  \n",
       "4224  19:15:01       8.34  \n",
       "\n",
       "[4 rows x 42 columns]"
      ]
     },
     "execution_count": 2,
     "metadata": {},
     "output_type": "execute_result"
    }
   ],
   "source": [
    "data = pd.read_csv('Pre_processed_data.csv')\n",
    "data.tail(4)"
   ]
  },
  {
   "cell_type": "code",
   "execution_count": 3,
   "metadata": {},
   "outputs": [
    {
     "data": {
      "text/plain": [
       "Index(['Unnamed: 0', 'Cpu Count', 'Cpu Working Time', 'Cpu idle Time',\n",
       "       'cpu_percent', 'Usage Cpu Count ',\n",
       "       'number of software interrupts since boot',\n",
       "       'number of system calls since boot', 'number of interrupts since boot',\n",
       "       'cpu avg load over 1 min', 'cpu avg load over 5 min',\n",
       "       'cpu avg load over 15 min', 'system_total_memory', 'system_used_memory',\n",
       "       'system_free_memory', 'system_active_memory', 'system_inactive_memory',\n",
       "       'system_buffers_memory', 'system_cached_memory', 'system_shared_memory',\n",
       "       'system_avalible_memory', 'disk_total_memory', 'disk_used_memory',\n",
       "       'disk_free_memory', 'disk_read_count', 'disk_write_count',\n",
       "       'disk_read_bytes', 'disk_write_bytes', 'time spent reading from disk',\n",
       "       'time spent writing to disk', 'time spent doing actual I/Os',\n",
       "       'number of bytes sent', 'number of bytes received',\n",
       "       'number of packets sent', 'number of packets recived',\n",
       "       'total number of errors while receiving',\n",
       "       'total number of errors while sending',\n",
       "       'total number of incoming packets which were dropped',\n",
       "       'total number of outgoing packets which were dropped', 'Dates', 'Time',\n",
       "       'Boot_Time'],\n",
       "      dtype='object')"
      ]
     },
     "execution_count": 3,
     "metadata": {},
     "output_type": "execute_result"
    }
   ],
   "source": [
    "data.columns"
   ]
  },
  {
   "cell_type": "code",
   "execution_count": 4,
   "metadata": {},
   "outputs": [],
   "source": [
    "data.drop(columns=['Unnamed: 0', 'Dates', 'Time'], inplace=True)"
   ]
  },
  {
   "cell_type": "markdown",
   "metadata": {},
   "source": [
    "# Data Generation"
   ]
  },
  {
   "cell_type": "code",
   "execution_count": 5,
   "metadata": {},
   "outputs": [],
   "source": [
    "col_wise_val = []\n",
    "for col in data.columns:\n",
    "    new_values = []\n",
    "    min_val = data[col].min()\n",
    "    max_val = data[col].max()\n",
    "    for i in range(10000):\n",
    "        new_values.append(random.uniform(min_val, max_val)) \n",
    "    col_wise_val.append(new_values)\n",
    "        "
   ]
  },
  {
   "cell_type": "code",
   "execution_count": 6,
   "metadata": {},
   "outputs": [],
   "source": [
    "df = pd.DataFrame(columns=data.columns)\n",
    "for i in range(len(col_wise_val)):\n",
    "    df[data.columns[i]] = col_wise_val[i]"
   ]
  },
  {
   "cell_type": "code",
   "execution_count": 9,
   "metadata": {},
   "outputs": [
    {
     "data": {
      "text/plain": [
       "((4225, 39), (10000, 39))"
      ]
     },
     "execution_count": 9,
     "metadata": {},
     "output_type": "execute_result"
    }
   ],
   "source": [
    "data.shape, df.shape"
   ]
  },
  {
   "cell_type": "code",
   "execution_count": 10,
   "metadata": {},
   "outputs": [],
   "source": [
    "new_data = df.append(data)"
   ]
  },
  {
   "cell_type": "code",
   "execution_count": 11,
   "metadata": {},
   "outputs": [
    {
     "data": {
      "text/plain": [
       "(14225, 39)"
      ]
     },
     "execution_count": 11,
     "metadata": {},
     "output_type": "execute_result"
    }
   ],
   "source": [
    "new_data.shape"
   ]
  },
  {
   "cell_type": "code",
   "execution_count": 12,
   "metadata": {},
   "outputs": [],
   "source": [
    "new_data.to_csv('generated_data.csv')"
   ]
  }
 ],
 "metadata": {
  "kernelspec": {
   "display_name": "Python 3",
   "language": "python",
   "name": "python3"
  },
  "language_info": {
   "codemirror_mode": {
    "name": "ipython",
    "version": 3
   },
   "file_extension": ".py",
   "mimetype": "text/x-python",
   "name": "python",
   "nbconvert_exporter": "python",
   "pygments_lexer": "ipython3",
   "version": "3.6.8"
  }
 },
 "nbformat": 4,
 "nbformat_minor": 2
}
